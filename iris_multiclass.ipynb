{
 "cells": [
  {
   "cell_type": "code",
   "execution_count": 1,
   "metadata": {},
   "outputs": [],
   "source": [
    "from tropy.svm import TropicalSVC\n",
    "from tropy.metrics import veronese_feature_names, print_features_per_class\n",
    "from tropy.veronese import hypersurface_polymake_code\n",
    "import pandas as pd\n",
    "import numpy as np\n",
    "from sklearn.model_selection import train_test_split\n",
    "\n",
    "np.set_printoptions(precision=3, suppress=True)"
   ]
  },
  {
   "cell_type": "code",
   "execution_count": 2,
   "metadata": {},
   "outputs": [],
   "source": [
    "base_df = pd.read_csv('./data/iris.csv')\n",
    "df = base_df.loc[:, 'sepal_length':'petal_width']\n",
    "features = df.columns.to_list() + [\"intercept\"]\n",
    "classes = [\"Iris-setosa\", \"Iris-virginica\", \"Iris-versicolor\"]\n",
    "\n",
    "def class_df(class_name):\n",
    "  df_class = df[base_df[\"species\"].str.contains(class_name)]\n",
    "  df_train, df_test = train_test_split(df_class, test_size=0.5, random_state=43)\n",
    "  Ctrain, Ctest = df_train.to_numpy(dtype=float).T, df_test.to_numpy(dtype=float).T\n",
    "  return Ctrain, Ctest"
   ]
  },
  {
   "cell_type": "code",
   "execution_count": 3,
   "metadata": {},
   "outputs": [],
   "source": [
    "degree = 2"
   ]
  },
  {
   "cell_type": "code",
   "execution_count": 4,
   "metadata": {},
   "outputs": [],
   "source": [
    "Clist_train, Clist_test = [], []\n",
    "for class_name in classes:\n",
    "  train, test = class_df(class_name)\n",
    "  Clist_train.append(train)\n",
    "  Clist_test.append(test)"
   ]
  },
  {
   "cell_type": "code",
   "execution_count": 5,
   "metadata": {},
   "outputs": [
    {
     "name": "stdout",
     "output_type": "stream",
     "text": [
      "KM converged in 31 iterations\n",
      "Apex: [ -9.98 -12.18 -11.18 -14.28   8.52  10.92   7.52   7.22   4.02   5.92\n",
      " -26.48  12.72   5.42   9.22   2.62]\n"
     ]
    }
   ],
   "source": [
    "model = TropicalSVC()\n",
    "model.fit(Clist_train, degree)\n",
    "print(\"Apex:\", model._apex)"
   ]
  },
  {
   "cell_type": "code",
   "execution_count": 6,
   "metadata": {},
   "outputs": [
    {
     "name": "stdout",
     "output_type": "stream",
     "text": [
      "Accuracy: 0.947\n"
     ]
    }
   ],
   "source": [
    "accuracy = model.accuracy(Clist_test)\n",
    "print(f\"Accuracy: {round(accuracy, 3)}\")"
   ]
  },
  {
   "cell_type": "code",
   "execution_count": 7,
   "metadata": {},
   "outputs": [
    {
     "name": "stdout",
     "output_type": "stream",
     "text": [
      "Dominant features for each class:\n",
      "- Iris-setosa: sepal_length + petal_length, 2*sepal_length\n",
      "- Iris-virginica: 2*petal_width, 2*intercept\n",
      "- Iris-versicolor: sepal_length + sepal_width, sepal_length + petal_width, sepal_length + intercept, sepal_width + petal_length, 2*petal_length\n"
     ]
    }
   ],
   "source": [
    "print_features_per_class(classes, veronese_feature_names(features, model._monomials), model._sector_indicator)"
   ]
  },
  {
   "cell_type": "code",
   "execution_count": 8,
   "metadata": {},
   "outputs": [
    {
     "data": {
      "text/plain": [
       "'$C = new Hypersurface<Max>(MONOMIALS=>[[1, 1, 0, 0, 0], [1, 0, 1, 0, 0], [1, 0, 0, 1, 0], [1, 0, 0, 0, 1], [0, 1, 1, 0, 0], [2, 0, 0, 0, 0], [0, 0, 2, 0, 0], [0, 0, 0, 2, 0], [0, 0, 0, 0, 2]], COEFFICIENTS=>[9.979943178429581, 12.179564206091067, 11.180091728152087, 14.280053564415619, -8.519909612114231, 26.479537080715716, -5.419915604988735, -9.219907414658618, -2.619909612114233]);'"
      ]
     },
     "execution_count": 8,
     "metadata": {},
     "output_type": "execute_result"
    }
   ],
   "source": [
    "hypersurface_polymake_code(model._monomials, model._coeffs)"
   ]
  }
 ],
 "metadata": {
  "kernelspec": {
   "display_name": "Python 3",
   "language": "python",
   "name": "python3"
  },
  "language_info": {
   "codemirror_mode": {
    "name": "ipython",
    "version": 3
   },
   "file_extension": ".py",
   "mimetype": "text/x-python",
   "name": "python",
   "nbconvert_exporter": "python",
   "pygments_lexer": "ipython3",
   "version": "3.9.6"
  }
 },
 "nbformat": 4,
 "nbformat_minor": 2
}
