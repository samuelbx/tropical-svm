{
 "cells": [
  {
   "cell_type": "code",
   "execution_count": 1,
   "metadata": {},
   "outputs": [],
   "source": [
    "from tropy.svm import TropicalSVC\n",
    "from tropy.metrics import veronese_feature_names, print_features_per_class\n",
    "from tropy.veronese import hypersurface_polymake_code\n",
    "import pandas as pd\n",
    "import numpy as np\n",
    "from sklearn.model_selection import train_test_split\n",
    "\n",
    "np.set_printoptions(precision=3, suppress=True)"
   ]
  },
  {
   "cell_type": "code",
   "execution_count": 2,
   "metadata": {},
   "outputs": [],
   "source": [
    "base_df = pd.read_csv('./notebooks/data/IRIS.csv')\n",
    "df = base_df.loc[:, 'sepal_length':'petal_width']\n",
    "features = df.columns.to_list() + [\"intercept\"]\n",
    "classes = [\"Iris-setosa\", \"Iris-virginica\", \"Iris-versicolor\"]\n",
    "\n",
    "def class_df(class_name):\n",
    "  df_class = df[base_df[\"species\"].str.contains(class_name)]\n",
    "  df_train, df_test = train_test_split(df_class, test_size=0.5, random_state=43)\n",
    "  Ctrain, Ctest = df_train.to_numpy(dtype=float).T, df_test.to_numpy(dtype=float).T\n",
    "  return Ctrain, Ctest"
   ]
  },
  {
   "cell_type": "code",
   "execution_count": 3,
   "metadata": {},
   "outputs": [],
   "source": [
    "degree = 2"
   ]
  },
  {
   "cell_type": "code",
   "execution_count": 4,
   "metadata": {},
   "outputs": [],
   "source": [
    "Clist_train, Clist_test = [], []\n",
    "for class_name in classes:\n",
    "  train, test = class_df(class_name)\n",
    "  Clist_train.append(train)\n",
    "  Clist_test.append(test)"
   ]
  },
  {
   "cell_type": "code",
   "execution_count": 5,
   "metadata": {},
   "outputs": [
    {
     "name": "stderr",
     "output_type": "stream",
     "text": [
      "100%|██████████| 15/15 [00:00<00:00, 3785.02it/s]"
     ]
    },
    {
     "name": "stdout",
     "output_type": "stream",
     "text": [
      "Apex: [  8.254  10.543   7.23   -9.214   7.051   3.989 -11.546   5.566 -11.496\n",
      " -13.696  12.301   5.497   8.86    2.404 -25.745]\n"
     ]
    },
    {
     "name": "stderr",
     "output_type": "stream",
     "text": [
      "\n"
     ]
    }
   ],
   "source": [
    "model = TropicalSVC()\n",
    "model.fit(Clist_train, degree)\n",
    "print(\"Apex:\", model._apex)"
   ]
  },
  {
   "cell_type": "code",
   "execution_count": 6,
   "metadata": {},
   "outputs": [
    {
     "name": "stdout",
     "output_type": "stream",
     "text": [
      "Accuracy: 0.947\n"
     ]
    }
   ],
   "source": [
    "accuracy = model.accuracy(Clist_test)\n",
    "print(f\"Accuracy: {round(accuracy, 3)}\")"
   ]
  },
  {
   "cell_type": "code",
   "execution_count": 7,
   "metadata": {},
   "outputs": [
    {
     "name": "stdout",
     "output_type": "stream",
     "text": [
      "Dominant features for each class:\n",
      "- Iris-setosa: sepal_width + intercept, 2*intercept\n",
      "- Iris-virginica: petal_length + petal_width, 2*petal_length, 2*petal_width\n",
      "- Iris-versicolor: sepal_length + sepal_width, petal_length + intercept, petal_width + intercept, 2*sepal_width\n"
     ]
    }
   ],
   "source": [
    "print_features_per_class(classes, veronese_feature_names(features, model._veronese_coefficients), model._sector_indicator)"
   ]
  },
  {
   "cell_type": "code",
   "execution_count": 8,
   "metadata": {},
   "outputs": [
    {
     "data": {
      "text/plain": [
       "'$C = new Hypersurface<Max>(MONOMIALS=>[[1, 1, 0, 0, 0], [1, 0, 1, 0, 0], [1, 0, 0, 1, 0], [1, 0, 0, 0, 1], [0, 1, 1, 0, 0], [0, 1, 0, 1, 0], [0, 1, 0, 0, 1], [0, 0, 1, 1, 0], [0, 0, 1, 0, 1], [0, 0, 0, 1, 1], [2, 0, 0, 0, 0], [0, 2, 0, 0, 0], [0, 0, 2, 0, 0], [0, 0, 0, 2, 0], [0, 0, 0, 0, 2]], COEFFICIENTS=>[-8.254298095703122, -10.542545776367184, -7.229642944335936, 9.21404602050781, -7.050910644531248, -3.989143066406248, 11.545610351562503, -5.566462402343748, 11.495701904296874, 13.695610351562502, -12.301026611328124, -5.4969555664062515, -8.860285644531249, -2.4042980957031226, 25.744600219726557]);'"
      ]
     },
     "execution_count": 8,
     "metadata": {},
     "output_type": "execute_result"
    }
   ],
   "source": [
    "hypersurface_polymake_code(model._monomials, model._coeffs)"
   ]
  }
 ],
 "metadata": {
  "kernelspec": {
   "display_name": "Python 3",
   "language": "python",
   "name": "python3"
  },
  "language_info": {
   "codemirror_mode": {
    "name": "ipython",
    "version": 3
   },
   "file_extension": ".py",
   "mimetype": "text/x-python",
   "name": "python",
   "nbconvert_exporter": "python",
   "pygments_lexer": "ipython3",
   "version": "3.9.6"
  }
 },
 "nbformat": 4,
 "nbformat_minor": 2
}
