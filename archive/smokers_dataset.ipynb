{
 "cells": [
  {
   "cell_type": "code",
   "execution_count": 17,
   "metadata": {},
   "outputs": [],
   "source": [
    "# DISCLAIMER: doesn't work\n",
    "from tropy.learn import fit_hyperplane, fit_classifier\n",
    "import pandas as pd"
   ]
  },
  {
   "cell_type": "code",
   "execution_count": 18,
   "metadata": {},
   "outputs": [],
   "source": [
    "train_df = pd.read_csv('./data/smokers_train.csv').drop('id', axis=1)\n",
    "test_df = pd.read_csv('./data/smokers_test.csv').drop('id', axis=1)\n",
    "#train_df.insert(0, 'intercept', 0)\n",
    "#test_df.insert(0, 'intercept', 0)\n",
    "\n",
    "def z_scale(df):\n",
    "    df.iloc[:, 1:] = (df.iloc[:, 1:] - df.iloc[:, 1:].mean()) / df.iloc[:, 1:].std()\n",
    "    return df\n"
   ]
  },
  {
   "cell_type": "code",
   "execution_count": 19,
   "metadata": {},
   "outputs": [],
   "source": [
    "def do_feature_eng(dataset):\n",
    "    dataset = dataset.copy()\n",
    "    dataset['BMI'] = dataset['weight(kg)'] / ((dataset['height(cm)'] / 100) ** 2)\n",
    "    dataset['waist_height_ratio'] = dataset['waist(cm)'] / dataset['height(cm)']\n",
    "    dataset['avg_eyesight'] = (dataset['eyesight(left)'] + dataset['eyesight(right)']) / 2\n",
    "    dataset['avg_hearing'] = (dataset['hearing(left)'] + dataset['hearing(right)']) / 2\n",
    "    dataset['cholesterol_ratio'] = dataset['HDL'] / dataset['LDL']\n",
    "    return dataset\n",
    "\n",
    "#train_df = do_feature_eng(train_df)\n",
    "#test_df = do_feature_eng(test_df)"
   ]
  },
  {
   "cell_type": "code",
   "execution_count": 20,
   "metadata": {},
   "outputs": [
    {
     "name": "stdout",
     "output_type": "stream",
     "text": [
      "Top correlated features with smoking\n",
      "smoking: 1.0\n",
      "hemoglobin: 0.4506786564297312\n",
      "height(cm): 0.44711105381189953\n",
      "weight(kg): 0.35174789218573627\n",
      "triglyceride: 0.33197510463307994\n",
      "Gtp: 0.3055610317905156\n",
      "0         1\n",
      "1         0\n",
      "2         1\n",
      "3         0\n",
      "4         1\n",
      "         ..\n",
      "159251    0\n",
      "159252    0\n",
      "159253    0\n",
      "159254    1\n",
      "159255    0\n",
      "Name: smoking, Length: 159256, dtype: int64\n"
     ]
    }
   ],
   "source": [
    "N = 5 # Keep the N most correlated features\n",
    "\n",
    "correlation_matrix = train_df.corr()\n",
    "\n",
    "top_correlations = correlation_matrix[\"smoking\"].abs().nlargest(N + 1)\n",
    "top_features = top_correlations.index\n",
    "\n",
    "print(\"Top correlated features with\", \"smoking\")\n",
    "for feature, correlation in top_correlations.items():\n",
    "    print(f\"{feature}: {correlation}\")\n",
    "\n",
    "train_df = train_df[top_features]\n",
    "test_df = test_df[top_features[1:]]\n",
    "print(train_df['smoking'])"
   ]
  },
  {
   "cell_type": "code",
   "execution_count": 21,
   "metadata": {},
   "outputs": [
    {
     "name": "stdout",
     "output_type": "stream",
     "text": [
      "(5, 69653)\n",
      "(5, 106171)\n"
     ]
    }
   ],
   "source": [
    "train_plus = train_df[train_df['smoking'] == 1].iloc[:, 1:]\n",
    "train_minus = train_df[train_df['smoking'] == 0].iloc[:, 1:]\n",
    "#train_df = z_scale(train_df)\n",
    "#test_df = z_scale(test_df)\n",
    "Cplus_train = train_plus.to_numpy().T\n",
    "Cminus_train = train_minus.to_numpy().T\n",
    "\n",
    "C_test = test_df.to_numpy().T\n",
    "print(Cplus_train.shape)\n",
    "print(C_test.shape)"
   ]
  },
  {
   "cell_type": "code",
   "execution_count": 22,
   "metadata": {},
   "outputs": [
    {
     "name": "stdout",
     "output_type": "stream",
     "text": [
      "Apex: [-306.14 -157.59 -229.54  116.81  576.46]\n",
      "Margin: 0\n"
     ]
    }
   ],
   "source": [
    "Cplus_trans, Cminus_trans, x, l = fit_hyperplane(Cplus_train, Cminus_train, N=100)\n",
    "print(\"Apex:\", x)\n",
    "print(\"Margin:\", abs(l))"
   ]
  },
  {
   "cell_type": "code",
   "execution_count": 23,
   "metadata": {},
   "outputs": [
    {
     "name": "stdout",
     "output_type": "stream",
     "text": [
      "[1 3 4] [0]\n"
     ]
    }
   ],
   "source": [
    "predictor = fit_classifier(Cplus_trans, Cminus_trans, x, verbose=True)"
   ]
  },
  {
   "cell_type": "code",
   "execution_count": 24,
   "metadata": {},
   "outputs": [],
   "source": [
    "test_df_2 = pd.read_csv('./data/smokers_test.csv')\n",
    "test_df_2['smoking'] = 0.5\n",
    "for i, row in enumerate(C_test.T):\n",
    "  test_df_2.at[i, 'smoking'] = predictor(row)\n",
    "output_df = test_df_2[['id', 'smoking']]\n",
    "output_df.to_csv('benchmark.csv', index=False)"
   ]
  }
 ],
 "metadata": {
  "kernelspec": {
   "display_name": "Python 3",
   "language": "python",
   "name": "python3"
  },
  "language_info": {
   "codemirror_mode": {
    "name": "ipython",
    "version": 3
   },
   "file_extension": ".py",
   "mimetype": "text/x-python",
   "name": "python",
   "nbconvert_exporter": "python",
   "pygments_lexer": "ipython3",
   "version": "3.9.6"
  }
 },
 "nbformat": 4,
 "nbformat_minor": 2
}
