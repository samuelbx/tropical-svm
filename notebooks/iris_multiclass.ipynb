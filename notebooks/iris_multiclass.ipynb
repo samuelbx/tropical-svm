{
 "cells": [
  {
   "cell_type": "code",
   "execution_count": 1,
   "metadata": {},
   "outputs": [],
   "source": [
    "from tropy.learn import fit_classifier, fit_classifier_onevsall, _inrad_eigenpair, predict_onevsall\n",
    "from tropy.metrics import accuracy_multiple, veronese_feature_names, print_features_per_class\n",
    "from tropy.ops import veronese\n",
    "from tropy.utils import simplex_lattice_points\n",
    "import pandas as pd\n",
    "import numpy as np\n",
    "from sklearn.model_selection import train_test_split\n",
    "\n",
    "np.set_printoptions(precision=3, suppress=True)"
   ]
  },
  {
   "cell_type": "code",
   "execution_count": 2,
   "metadata": {},
   "outputs": [],
   "source": [
    "base_df = pd.read_csv('./data/IRIS.csv')\n",
    "df = base_df.loc[:, 'sepal_length':'petal_width']\n",
    "features = df.columns.to_list()\n",
    "classes = [\"Iris-setosa\", \"Iris-virginica\", \"Iris-versicolor\"]\n",
    "\n",
    "lattice_points = None\n",
    "def class_df(class_name, size=None):\n",
    "  global lattice_points\n",
    "  df_class = df[base_df[\"species\"].str.contains(class_name)]\n",
    "  df_train, df_test = train_test_split(df_class, test_size=0.2, random_state=43)\n",
    "  Ctrain, Ctest = df_train.to_numpy(dtype=float).T, df_test.to_numpy(dtype=float).T\n",
    "\n",
    "  if size is not None:\n",
    "    d = Ctrain.shape[0]\n",
    "    lattice_points = list(simplex_lattice_points(d, size))\n",
    "    Ctrain, Ctest = veronese(lattice_points, Ctrain), veronese(lattice_points, Ctest)\n",
    "\n",
    "  print(Ctrain.shape, Ctest.shape)\n",
    "  return Ctrain, Ctest"
   ]
  },
  {
   "cell_type": "code",
   "execution_count": 3,
   "metadata": {},
   "outputs": [],
   "source": [
    "size = 2"
   ]
  },
  {
   "cell_type": "code",
   "execution_count": 4,
   "metadata": {},
   "outputs": [
    {
     "name": "stdout",
     "output_type": "stream",
     "text": [
      "(16, 40) (16, 10)\n",
      "(16, 40) (16, 10)\n",
      "(16, 40) (16, 10)\n"
     ]
    }
   ],
   "source": [
    "Clist_train = []\n",
    "Clist_test = []\n",
    "for class_name in classes:\n",
    "  train, test = class_df(class_name, size)\n",
    "  Clist_train.append(train)\n",
    "  Clist_test.append(test)"
   ]
  },
  {
   "cell_type": "code",
   "execution_count": 5,
   "metadata": {},
   "outputs": [
    {
     "name": "stderr",
     "output_type": "stream",
     "text": [
      " 74%|███████▍  | 37/50 [00:00<00:00, 9252.33it/s]"
     ]
    },
    {
     "name": "stdout",
     "output_type": "stream",
     "text": [
      "Apex: [ 1.144  3.044 -0.056 -0.156 -3.156 -1.356  1.144  3.044 -0.056 -0.156\n",
      " -3.156 -1.356  4.644 -1.456  2.144 -4.256]\n",
      "Eigval: -3.852619556710124e-08\n"
     ]
    },
    {
     "name": "stderr",
     "output_type": "stream",
     "text": [
      "\n"
     ]
    }
   ],
   "source": [
    "x, l = _inrad_eigenpair(Clist_train, N=50)\n",
    "print(\"Apex:\", x)\n",
    "print(\"Eigval:\", l)"
   ]
  },
  {
   "cell_type": "code",
   "execution_count": 6,
   "metadata": {},
   "outputs": [
    {
     "name": "stderr",
     "output_type": "stream",
     "text": [
      " 46%|████▌     | 23/50 [00:00<00:00, 8556.77it/s]\n",
      " 82%|████████▏ | 41/50 [00:00<00:00, 9259.45it/s]\n",
      " 74%|███████▍  | 37/50 [00:00<00:00, 11188.04it/s]\n"
     ]
    }
   ],
   "source": [
    "predictor, sector_indicator = fit_classifier(Clist_train, x)\n",
    "indicators, apices = fit_classifier_onevsall(Clist_train)"
   ]
  },
  {
   "cell_type": "code",
   "execution_count": 7,
   "metadata": {},
   "outputs": [
    {
     "name": "stdout",
     "output_type": "stream",
     "text": [
      "Accuracy: 0.933\n",
      "Accuracy (one-vs-all): 0.9\n"
     ]
    }
   ],
   "source": [
    "accuracy = accuracy_multiple(predictor, Clist_test)\n",
    "accuracy_one_vs_all = accuracy_multiple(predict_onevsall(indicators, apices, Clist_train), Clist_test)\n",
    "print(f\"Accuracy: {round(accuracy, 3)}\")\n",
    "print(f\"Accuracy (one-vs-all): {round(accuracy_one_vs_all, 3)}\")"
   ]
  },
  {
   "cell_type": "code",
   "execution_count": 8,
   "metadata": {},
   "outputs": [
    {
     "name": "stdout",
     "output_type": "stream",
     "text": [
      "Dominant features for each class:\n",
      "- Iris-setosa: 2*sepal_width\n",
      "- Iris-virginica: sepal_length + petal_length, sepal_length + petal_width, petal_length + petal_width, 2*petal_length\n",
      "- Iris-versicolor: sepal_length + sepal_width, sepal_width + petal_length, sepal_width + petal_width, 2*sepal_length, 2*petal_width\n"
     ]
    }
   ],
   "source": [
    "print_features_per_class(classes, veronese_feature_names(features, lattice_points), sector_indicator)"
   ]
  }
 ],
 "metadata": {
  "kernelspec": {
   "display_name": "Python 3",
   "language": "python",
   "name": "python3"
  },
  "language_info": {
   "codemirror_mode": {
    "name": "ipython",
    "version": 3
   },
   "file_extension": ".py",
   "mimetype": "text/x-python",
   "name": "python",
   "nbconvert_exporter": "python",
   "pygments_lexer": "ipython3",
   "version": "3.9.6"
  }
 },
 "nbformat": 4,
 "nbformat_minor": 2
}
