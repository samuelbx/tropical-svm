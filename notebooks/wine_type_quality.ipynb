{
 "cells": [
  {
   "cell_type": "code",
   "execution_count": 10,
   "metadata": {},
   "outputs": [],
   "source": [
    "from tropy.learn import fit_classifier, fit_classifier_onevsall, _inrad_eigenpair, predict_onevsall\n",
    "from tropy.metrics import accuracy_multiple, veronese_feature_names, print_features_per_class\n",
    "from tropy.ops import veronese\n",
    "from tropy.utils import simplex_lattice_points\n",
    "import pandas as pd\n",
    "import numpy as np\n",
    "from sklearn.model_selection import train_test_split\n",
    "from sklearn.preprocessing import MinMaxScaler\n",
    "\n",
    "np.set_printoptions(precision=3, suppress=True)"
   ]
  },
  {
   "cell_type": "code",
   "execution_count": 11,
   "metadata": {},
   "outputs": [],
   "source": [
    "classes = [(\"./data/winequality-red.csv\", False),\n",
    "           (\"./data/winequality-red.csv\", True),\n",
    "           (\"./data/winequality-white.csv\", False),\n",
    "           (\"./data/winequality-white.csv\", True)]\n",
    "\n",
    "lattice_points = None\n",
    "features = None\n",
    "\n",
    "def class_df(class_name, size=None, low_quality=False):\n",
    "  global lattice_points, features\n",
    "  base_df = pd.read_csv(class_name, delimiter=';', dtype=float)\n",
    "  if low_quality:\n",
    "      base_df = base_df[base_df[\"quality\"] <= 5]\n",
    "  else:\n",
    "      base_df = base_df[base_df[\"quality\"] >= 6]\n",
    "  features = base_df.columns.to_list()\n",
    "  df_class = base_df.loc[:, 'fixed acidity':'alcohol']\n",
    "  df_class = MinMaxScaler().fit_transform(df_class)\n",
    "  df_train, df_test = train_test_split(df_class, test_size=0.2, random_state=43)\n",
    "  Ctrain, Ctest = df_train.T, df_test.T\n",
    "\n",
    "  if size is not None:\n",
    "    d = Ctrain.shape[0]\n",
    "    lattice_points = list(simplex_lattice_points(d, size))\n",
    "    Ctrain, Ctest = veronese(lattice_points, Ctrain), veronese(lattice_points, Ctest)\n",
    "\n",
    "  print(Ctrain.shape, Ctest.shape)\n",
    "  return Ctrain, Ctest"
   ]
  },
  {
   "cell_type": "code",
   "execution_count": 12,
   "metadata": {},
   "outputs": [],
   "source": [
    "size = 4"
   ]
  },
  {
   "cell_type": "code",
   "execution_count": 13,
   "metadata": {},
   "outputs": [
    {
     "name": "stdout",
     "output_type": "stream",
     "text": [
      "(11231, 684) (11231, 171)\n",
      "(11231, 595) (11231, 149)\n",
      "(11231, 2606) (11231, 652)\n",
      "(11231, 1312) (11231, 328)\n"
     ]
    }
   ],
   "source": [
    "Clist_train = []\n",
    "Clist_test = []\n",
    "for class_name, low_quality in classes:\n",
    "    train, test = class_df(class_name, size, low_quality)\n",
    "    Clist_train.append(train)\n",
    "    Clist_test.append(test)\n",
    "\n",
    "classes = [\"Rouge <= 5\", \"Rouge >= 6\", \"Blanc <= 5\", \"Blanc => 6\"]"
   ]
  },
  {
   "cell_type": "code",
   "execution_count": 14,
   "metadata": {},
   "outputs": [
    {
     "name": "stderr",
     "output_type": "stream",
     "text": [
      "100%|██████████| 50/50 [01:06<00:00,  1.33s/it]"
     ]
    },
    {
     "name": "stdout",
     "output_type": "stream",
     "text": [
      "Apex: [-0.124 -0.1   -0.054 ...  1.412  1.063  1.332]\n",
      "Eigval: 8.881784197001252e-16\n"
     ]
    },
    {
     "name": "stderr",
     "output_type": "stream",
     "text": [
      "\n"
     ]
    }
   ],
   "source": [
    "x, l = _inrad_eigenpair(Clist_train, N=50)\n",
    "print(\"Apex:\", x)\n",
    "print(\"Eigval:\", l)"
   ]
  },
  {
   "cell_type": "code",
   "execution_count": 15,
   "metadata": {},
   "outputs": [],
   "source": [
    "predictor, sector_indicator = fit_classifier(Clist_train, x)"
   ]
  },
  {
   "cell_type": "code",
   "execution_count": 16,
   "metadata": {},
   "outputs": [
    {
     "name": "stdout",
     "output_type": "stream",
     "text": [
      "Accuracy: 0.877\n"
     ]
    }
   ],
   "source": [
    "accuracy = accuracy_multiple(predictor, Clist_test)\n",
    "print(f\"Accuracy: {round(accuracy, 3)}\")"
   ]
  },
  {
   "cell_type": "code",
   "execution_count": 17,
   "metadata": {},
   "outputs": [
    {
     "name": "stdout",
     "output_type": "stream",
     "text": [
      "Dominant features for each class:\n",
      "- Rouge <= 5: fixed acidity + volatile acidity + citric acid + chlorides, fixed acidity + volatile acidity + chlorides + density, fixed acidity + citric acid + residual sugar + density, fixed acidity + citric acid + chlorides + density, fixed acidity + citric acid + free sulfur dioxide + density, fixed acidity + citric acid + free sulfur dioxide + alcohol, fixed acidity + citric acid + density + sulphates, fixed acidity + citric acid + density + alcohol, volatile acidity + citric acid + chlorides + free sulfur dioxide, volatile acidity + citric acid + chlorides + density, volatile acidity + citric acid + chlorides + alcohol, volatile acidity + citric acid + free sulfur dioxide + density, volatile acidity + citric acid + free sulfur dioxide + alcohol, volatile acidity + citric acid + density + pH, volatile acidity + citric acid + density + sulphates, volatile acidity + citric acid + density + alcohol, volatile acidity + citric acid + pH + alcohol, volatile acidity + residual sugar + chlorides + density, volatile acidity + residual sugar + density + alcohol, volatile acidity + residual sugar + pH + alcohol, volatile acidity + residual sugar + sulphates + alcohol, volatile acidity + chlorides + free sulfur dioxide + density, volatile acidity + chlorides + free sulfur dioxide + sulphates, volatile acidity + chlorides + free sulfur dioxide + alcohol, volatile acidity + chlorides + density + pH, volatile acidity + chlorides + density + alcohol, volatile acidity + chlorides + pH + alcohol, volatile acidity + free sulfur dioxide + density + alcohol, volatile acidity + density + pH + sulphates, citric acid + residual sugar + density + alcohol, citric acid + chlorides + free sulfur dioxide + density, citric acid + chlorides + free sulfur dioxide + alcohol, citric acid + chlorides + density + pH, citric acid + chlorides + density + alcohol, citric acid + free sulfur dioxide + total sulfur dioxide + alcohol, citric acid + free sulfur dioxide + density + sulphates, citric acid + free sulfur dioxide + density + alcohol, citric acid + density + pH + alcohol, citric acid + density + sulphates + alcohol, residual sugar + density + pH + alcohol, chlorides + free sulfur dioxide + density + pH, free sulfur dioxide + density + pH + alcohol, 2*fixed acidity + volatile acidity + density, 2*fixed acidity + citric acid + chlorides, 2*volatile acidity + citric acid + chlorides, 2*volatile acidity + citric acid + free sulfur dioxide, 2*volatile acidity + citric acid + density, 2*volatile acidity + residual sugar + chlorides, 2*volatile acidity + chlorides + density, 2*volatile acidity + chlorides + pH, 2*volatile acidity + free sulfur dioxide + density, 2*volatile acidity + free sulfur dioxide + pH, 2*volatile acidity + free sulfur dioxide + alcohol, 2*volatile acidity + density + sulphates, 2*volatile acidity + density + alcohol, 2*volatile acidity + pH + alcohol, 2*citric acid + residual sugar + chlorides, 2*citric acid + residual sugar + free sulfur dioxide, 2*citric acid + residual sugar + alcohol, 2*citric acid + chlorides + density, 2*citric acid + chlorides + alcohol, 2*citric acid + free sulfur dioxide + density, 2*citric acid + free sulfur dioxide + sulphates, 2*citric acid + free sulfur dioxide + alcohol, 2*citric acid + total sulfur dioxide + alcohol, 2*citric acid + density + alcohol, 2*citric acid + sulphates + alcohol, 2*residual sugar + free sulfur dioxide + alcohol, 2*chlorides + density + pH, 2*chlorides + density + alcohol, 2*free sulfur dioxide + density + sulphates, 2*density + sulphates + alcohol, fixed acidity + 2*volatile acidity + alcohol, fixed acidity + 2*citric acid + chlorides, fixed acidity + 2*citric acid + free sulfur dioxide, fixed acidity + 2*citric acid + density, volatile acidity + 2*citric acid + chlorides, volatile acidity + 2*citric acid + free sulfur dioxide, volatile acidity + 2*citric acid + alcohol, volatile acidity + 2*residual sugar + free sulfur dioxide, volatile acidity + 2*chlorides + density, volatile acidity + 2*chlorides + alcohol, volatile acidity + 2*free sulfur dioxide + density, volatile acidity + 2*free sulfur dioxide + sulphates, volatile acidity + 2*free sulfur dioxide + alcohol, volatile acidity + 2*density + sulphates, volatile acidity + 2*density + alcohol, volatile acidity + 2*pH + alcohol, citric acid + 2*residual sugar + chlorides, citric acid + 2*residual sugar + free sulfur dioxide, citric acid + 2*chlorides + density, citric acid + 2*chlorides + alcohol, citric acid + 2*free sulfur dioxide + density, citric acid + 2*density + sulphates, residual sugar + 2*density + alcohol, chlorides + 2*free sulfur dioxide + density, chlorides + 2*density + pH, chlorides + 2*density + alcohol, chlorides + 2*pH + alcohol, free sulfur dioxide + 2*density + sulphates, free sulfur dioxide + 2*density + alcohol, fixed acidity + citric acid + 2*free sulfur dioxide, fixed acidity + citric acid + 2*density, volatile acidity + citric acid + 2*chlorides, volatile acidity + citric acid + 2*free sulfur dioxide, volatile acidity + citric acid + 2*density, volatile acidity + citric acid + 2*pH, volatile acidity + citric acid + 2*alcohol, volatile acidity + residual sugar + 2*density, volatile acidity + chlorides + 2*free sulfur dioxide, volatile acidity + chlorides + 2*density, volatile acidity + chlorides + 2*alcohol, volatile acidity + free sulfur dioxide + 2*density, volatile acidity + free sulfur dioxide + 2*pH, volatile acidity + density + 2*alcohol, citric acid + residual sugar + 2*total sulfur dioxide, citric acid + residual sugar + 2*alcohol, citric acid + chlorides + 2*alcohol, citric acid + free sulfur dioxide + 2*density, citric acid + free sulfur dioxide + 2*sulphates, citric acid + free sulfur dioxide + 2*alcohol, citric acid + density + 2*pH, citric acid + density + 2*sulphates, citric acid + density + 2*alcohol, chlorides + free sulfur dioxide + 2*density, chlorides + density + 2*alcohol, free sulfur dioxide + density + 2*alcohol, free sulfur dioxide + pH + 2*alcohol, density + pH + 2*alcohol, 3*volatile acidity + citric acid, 3*volatile acidity + residual sugar, 3*volatile acidity + free sulfur dioxide, 3*volatile acidity + density, 3*volatile acidity + pH, 3*citric acid + free sulfur dioxide, 3*citric acid + density, 3*citric acid + alcohol, 3*residual sugar + free sulfur dioxide, 3*chlorides + density, 3*free sulfur dioxide + density, 3*free sulfur dioxide + alcohol, 3*density + sulphates, 3*density + alcohol, volatile acidity + 3*citric acid, volatile acidity + 3*density, volatile acidity + 3*sulphates, citric acid + 3*alcohol, chlorides + 3*density, density + 3*alcohol, 2*fixed acidity + 2*citric acid, 2*volatile acidity + 2*citric acid, 2*volatile acidity + 2*chlorides, 2*volatile acidity + 2*free sulfur dioxide, 2*volatile acidity + 2*density, 2*volatile acidity + 2*sulphates, 2*volatile acidity + 2*alcohol, 2*citric acid + 2*residual sugar, 2*citric acid + 2*chlorides, 2*citric acid + 2*free sulfur dioxide, 2*citric acid + 2*alcohol, 2*residual sugar + 2*free sulfur dioxide, 2*chlorides + 2*density, 2*chlorides + 2*sulphates, 2*free sulfur dioxide + 2*density, 2*density + 2*alcohol, 4*fixed acidity, 4*volatile acidity\n",
      "- Rouge >= 6: fixed acidity + volatile acidity + citric acid + free sulfur dioxide, fixed acidity + volatile acidity + citric acid + pH, fixed acidity + volatile acidity + residual sugar + total sulfur dioxide, fixed acidity + volatile acidity + residual sugar + pH, fixed acidity + volatile acidity + free sulfur dioxide + total sulfur dioxide, fixed acidity + volatile acidity + density + pH, fixed acidity + volatile acidity + density + sulphates, fixed acidity + citric acid + residual sugar + free sulfur dioxide, fixed acidity + citric acid + residual sugar + pH, fixed acidity + citric acid + free sulfur dioxide + pH, fixed acidity + residual sugar + density + pH, fixed acidity + residual sugar + pH + alcohol, fixed acidity + chlorides + free sulfur dioxide + alcohol, fixed acidity + chlorides + density + alcohol, fixed acidity + free sulfur dioxide + density + pH, volatile acidity + citric acid + residual sugar + chlorides, volatile acidity + citric acid + residual sugar + free sulfur dioxide, volatile acidity + citric acid + residual sugar + pH, volatile acidity + citric acid + free sulfur dioxide + sulphates, volatile acidity + citric acid + total sulfur dioxide + pH, volatile acidity + residual sugar + chlorides + total sulfur dioxide, volatile acidity + residual sugar + free sulfur dioxide + total sulfur dioxide, volatile acidity + residual sugar + density + pH, volatile acidity + free sulfur dioxide + total sulfur dioxide + density, volatile acidity + free sulfur dioxide + pH + sulphates, volatile acidity + total sulfur dioxide + density + pH, volatile acidity + total sulfur dioxide + density + sulphates, volatile acidity + total sulfur dioxide + density + alcohol, citric acid + residual sugar + chlorides + density, citric acid + residual sugar + chlorides + pH, citric acid + residual sugar + density + pH, citric acid + residual sugar + pH + alcohol, citric acid + chlorides + free sulfur dioxide + pH, citric acid + chlorides + pH + sulphates, citric acid + free sulfur dioxide + total sulfur dioxide + density, citric acid + free sulfur dioxide + density + pH, citric acid + total sulfur dioxide + density + pH, residual sugar + chlorides + density + pH, residual sugar + free sulfur dioxide + density + pH, residual sugar + free sulfur dioxide + pH + alcohol, residual sugar + free sulfur dioxide + sulphates + alcohol, residual sugar + total sulfur dioxide + density + pH, chlorides + free sulfur dioxide + total sulfur dioxide + density, chlorides + free sulfur dioxide + density + sulphates, free sulfur dioxide + density + pH + sulphates, 2*fixed acidity + volatile acidity + residual sugar, 2*fixed acidity + volatile acidity + free sulfur dioxide, 2*fixed acidity + citric acid + free sulfur dioxide, 2*fixed acidity + citric acid + sulphates, 2*fixed acidity + residual sugar + density, 2*fixed acidity + free sulfur dioxide + density, 2*fixed acidity + free sulfur dioxide + pH, 2*fixed acidity + density + alcohol, 2*volatile acidity + citric acid + pH, 2*volatile acidity + residual sugar + density, 2*volatile acidity + chlorides + total sulfur dioxide, 2*volatile acidity + total sulfur dioxide + pH, 2*volatile acidity + density + pH, 2*citric acid + residual sugar + pH, 2*citric acid + chlorides + pH, 2*citric acid + free sulfur dioxide + total sulfur dioxide, 2*citric acid + total sulfur dioxide + density, 2*citric acid + density + sulphates, 2*citric acid + pH + alcohol, 2*residual sugar + free sulfur dioxide + total sulfur dioxide, 2*residual sugar + free sulfur dioxide + density, 2*residual sugar + total sulfur dioxide + pH, 2*residual sugar + pH + alcohol, 2*chlorides + density + sulphates, 2*free sulfur dioxide + total sulfur dioxide + density, 2*free sulfur dioxide + density + pH, 2*total sulfur dioxide + density + pH, 2*total sulfur dioxide + density + alcohol, 2*total sulfur dioxide + pH + alcohol, 2*density + pH + alcohol, fixed acidity + 2*volatile acidity + chlorides, fixed acidity + 2*volatile acidity + pH, fixed acidity + 2*citric acid + residual sugar, fixed acidity + 2*citric acid + pH, fixed acidity + 2*citric acid + alcohol, fixed acidity + 2*chlorides + sulphates, fixed acidity + 2*free sulfur dioxide + density, fixed acidity + 2*density + pH, fixed acidity + 2*pH + alcohol, volatile acidity + 2*citric acid + total sulfur dioxide, volatile acidity + 2*residual sugar + pH, volatile acidity + 2*chlorides + pH, volatile acidity + 2*chlorides + sulphates, volatile acidity + 2*free sulfur dioxide + pH, volatile acidity + 2*total sulfur dioxide + density, volatile acidity + 2*total sulfur dioxide + pH, citric acid + 2*residual sugar + alcohol, citric acid + 2*chlorides + sulphates, citric acid + 2*free sulfur dioxide + sulphates, citric acid + 2*total sulfur dioxide + density, citric acid + 2*total sulfur dioxide + pH, citric acid + 2*density + pH, citric acid + 2*density + alcohol, residual sugar + 2*free sulfur dioxide + density, residual sugar + 2*total sulfur dioxide + density, residual sugar + 2*pH + alcohol, free sulfur dioxide + 2*total sulfur dioxide + density, free sulfur dioxide + 2*pH + alcohol, density + 2*pH + alcohol, fixed acidity + volatile acidity + 2*free sulfur dioxide, fixed acidity + volatile acidity + 2*density, fixed acidity + volatile acidity + 2*pH, fixed acidity + citric acid + 2*chlorides, fixed acidity + residual sugar + 2*pH, fixed acidity + chlorides + 2*free sulfur dioxide, fixed acidity + chlorides + 2*total sulfur dioxide, fixed acidity + chlorides + 2*density, fixed acidity + total sulfur dioxide + 2*density, volatile acidity + citric acid + 2*total sulfur dioxide, volatile acidity + residual sugar + 2*free sulfur dioxide, volatile acidity + residual sugar + 2*pH, volatile acidity + chlorides + 2*pH, volatile acidity + total sulfur dioxide + 2*density, volatile acidity + total sulfur dioxide + 2*pH, volatile acidity + density + 2*sulphates, citric acid + residual sugar + 2*free sulfur dioxide, citric acid + chlorides + 2*free sulfur dioxide, citric acid + chlorides + 2*density, citric acid + free sulfur dioxide + 2*pH, citric acid + total sulfur dioxide + 2*density, residual sugar + chlorides + 2*pH, residual sugar + pH + 2*alcohol, chlorides + total sulfur dioxide + 2*density, chlorides + density + 2*pH, free sulfur dioxide + total sulfur dioxide + 2*density, free sulfur dioxide + density + 2*pH, total sulfur dioxide + density + 2*pH, 3*fixed acidity + volatile acidity, 3*fixed acidity + citric acid, 3*fixed acidity + pH, 3*fixed acidity + alcohol, 3*residual sugar + total sulfur dioxide, 3*free sulfur dioxide + pH, 3*total sulfur dioxide + density, 3*density + pH, fixed acidity + 3*density, volatile acidity + 3*free sulfur dioxide, volatile acidity + 3*total sulfur dioxide, volatile acidity + 3*pH, citric acid + 3*density, citric acid + 3*pH, residual sugar + 3*free sulfur dioxide, free sulfur dioxide + 3*density, total sulfur dioxide + 3*density, density + 3*pH, density + 3*sulphates, 2*volatile acidity + 2*pH, 2*citric acid + 2*total sulfur dioxide, 2*citric acid + 2*density, 2*citric acid + 2*pH, 2*chlorides + 2*total sulfur dioxide, 2*free sulfur dioxide + 2*total sulfur dioxide, 2*total sulfur dioxide + 2*sulphates, 2*density + 2*pH, 4*residual sugar, 4*chlorides, 4*density\n",
      "- Blanc <= 5: fixed acidity + volatile acidity + residual sugar + free sulfur dioxide, fixed acidity + volatile acidity + chlorides + total sulfur dioxide, fixed acidity + volatile acidity + chlorides + sulphates, fixed acidity + volatile acidity + chlorides + alcohol, fixed acidity + volatile acidity + free sulfur dioxide + sulphates, fixed acidity + volatile acidity + total sulfur dioxide + pH, fixed acidity + volatile acidity + pH + alcohol, fixed acidity + citric acid + total sulfur dioxide + sulphates, fixed acidity + residual sugar + chlorides + free sulfur dioxide, fixed acidity + residual sugar + chlorides + total sulfur dioxide, fixed acidity + residual sugar + chlorides + alcohol, fixed acidity + residual sugar + free sulfur dioxide + total sulfur dioxide, fixed acidity + residual sugar + total sulfur dioxide + pH, fixed acidity + residual sugar + total sulfur dioxide + sulphates, fixed acidity + residual sugar + total sulfur dioxide + alcohol, fixed acidity + residual sugar + pH + sulphates, fixed acidity + chlorides + free sulfur dioxide + total sulfur dioxide, fixed acidity + chlorides + free sulfur dioxide + pH, fixed acidity + chlorides + free sulfur dioxide + sulphates, fixed acidity + chlorides + total sulfur dioxide + pH, fixed acidity + chlorides + total sulfur dioxide + sulphates, fixed acidity + chlorides + total sulfur dioxide + alcohol, fixed acidity + chlorides + sulphates + alcohol, fixed acidity + free sulfur dioxide + total sulfur dioxide + pH, fixed acidity + free sulfur dioxide + total sulfur dioxide + sulphates, fixed acidity + free sulfur dioxide + total sulfur dioxide + alcohol, fixed acidity + free sulfur dioxide + pH + sulphates, fixed acidity + free sulfur dioxide + pH + alcohol, fixed acidity + total sulfur dioxide + pH + sulphates, fixed acidity + pH + sulphates + alcohol, volatile acidity + citric acid + residual sugar + alcohol, volatile acidity + citric acid + free sulfur dioxide + total sulfur dioxide, volatile acidity + residual sugar + free sulfur dioxide + sulphates, volatile acidity + residual sugar + free sulfur dioxide + alcohol, volatile acidity + chlorides + free sulfur dioxide + total sulfur dioxide, volatile acidity + free sulfur dioxide + total sulfur dioxide + sulphates, volatile acidity + free sulfur dioxide + total sulfur dioxide + alcohol, volatile acidity + total sulfur dioxide + pH + sulphates, volatile acidity + total sulfur dioxide + pH + alcohol, volatile acidity + total sulfur dioxide + sulphates + alcohol, volatile acidity + pH + sulphates + alcohol, citric acid + residual sugar + free sulfur dioxide + total sulfur dioxide, citric acid + residual sugar + total sulfur dioxide + pH, citric acid + residual sugar + total sulfur dioxide + sulphates, citric acid + residual sugar + total sulfur dioxide + alcohol, citric acid + chlorides + free sulfur dioxide + total sulfur dioxide, citric acid + chlorides + free sulfur dioxide + sulphates, citric acid + chlorides + total sulfur dioxide + alcohol, citric acid + free sulfur dioxide + total sulfur dioxide + sulphates, citric acid + free sulfur dioxide + pH + sulphates, citric acid + free sulfur dioxide + pH + alcohol, citric acid + free sulfur dioxide + sulphates + alcohol, citric acid + total sulfur dioxide + pH + alcohol, residual sugar + chlorides + free sulfur dioxide + total sulfur dioxide, residual sugar + chlorides + free sulfur dioxide + sulphates, residual sugar + chlorides + free sulfur dioxide + alcohol, residual sugar + chlorides + total sulfur dioxide + pH, residual sugar + chlorides + total sulfur dioxide + sulphates, residual sugar + chlorides + pH + sulphates, residual sugar + chlorides + sulphates + alcohol, residual sugar + free sulfur dioxide + total sulfur dioxide + pH, residual sugar + free sulfur dioxide + total sulfur dioxide + sulphates, residual sugar + free sulfur dioxide + total sulfur dioxide + alcohol, residual sugar + total sulfur dioxide + pH + sulphates, residual sugar + total sulfur dioxide + pH + alcohol, residual sugar + total sulfur dioxide + sulphates + alcohol, residual sugar + pH + sulphates + alcohol, chlorides + free sulfur dioxide + total sulfur dioxide + pH, chlorides + free sulfur dioxide + total sulfur dioxide + sulphates, chlorides + free sulfur dioxide + total sulfur dioxide + alcohol, chlorides + free sulfur dioxide + pH + alcohol, chlorides + free sulfur dioxide + sulphates + alcohol, chlorides + total sulfur dioxide + pH + sulphates, chlorides + total sulfur dioxide + pH + alcohol, chlorides + total sulfur dioxide + sulphates + alcohol, chlorides + pH + sulphates + alcohol, free sulfur dioxide + total sulfur dioxide + pH + alcohol, free sulfur dioxide + total sulfur dioxide + sulphates + alcohol, free sulfur dioxide + pH + sulphates + alcohol, total sulfur dioxide + pH + sulphates + alcohol, 2*fixed acidity + residual sugar + total sulfur dioxide, 2*fixed acidity + residual sugar + sulphates, 2*fixed acidity + chlorides + total sulfur dioxide, 2*fixed acidity + chlorides + sulphates, 2*fixed acidity + free sulfur dioxide + total sulfur dioxide, 2*fixed acidity + free sulfur dioxide + sulphates, 2*fixed acidity + free sulfur dioxide + alcohol, 2*fixed acidity + total sulfur dioxide + pH, 2*fixed acidity + total sulfur dioxide + sulphates, 2*volatile acidity + free sulfur dioxide + total sulfur dioxide, 2*volatile acidity + free sulfur dioxide + sulphates, 2*volatile acidity + total sulfur dioxide + sulphates, 2*volatile acidity + total sulfur dioxide + alcohol, 2*citric acid + total sulfur dioxide + pH, 2*residual sugar + chlorides + total sulfur dioxide, 2*residual sugar + chlorides + sulphates, 2*residual sugar + chlorides + alcohol, 2*residual sugar + free sulfur dioxide + pH, 2*residual sugar + free sulfur dioxide + sulphates, 2*chlorides + free sulfur dioxide + total sulfur dioxide, 2*chlorides + free sulfur dioxide + pH, 2*chlorides + free sulfur dioxide + alcohol, 2*chlorides + total sulfur dioxide + pH, 2*chlorides + pH + sulphates, 2*chlorides + pH + alcohol, 2*chlorides + sulphates + alcohol, 2*free sulfur dioxide + total sulfur dioxide + pH, 2*free sulfur dioxide + total sulfur dioxide + alcohol, 2*free sulfur dioxide + pH + sulphates, 2*free sulfur dioxide + pH + alcohol, 2*free sulfur dioxide + sulphates + alcohol, 2*total sulfur dioxide + pH + sulphates, 2*total sulfur dioxide + sulphates + alcohol, fixed acidity + 2*volatile acidity + free sulfur dioxide, fixed acidity + 2*volatile acidity + total sulfur dioxide, fixed acidity + 2*chlorides + free sulfur dioxide, fixed acidity + 2*chlorides + pH, fixed acidity + 2*chlorides + alcohol, fixed acidity + 2*free sulfur dioxide + total sulfur dioxide, fixed acidity + 2*free sulfur dioxide + pH, fixed acidity + 2*free sulfur dioxide + sulphates, fixed acidity + 2*free sulfur dioxide + alcohol, fixed acidity + 2*total sulfur dioxide + pH, fixed acidity + 2*total sulfur dioxide + alcohol, fixed acidity + 2*pH + sulphates, volatile acidity + 2*residual sugar + total sulfur dioxide, volatile acidity + 2*residual sugar + alcohol, volatile acidity + 2*chlorides + total sulfur dioxide, volatile acidity + 2*total sulfur dioxide + sulphates, volatile acidity + 2*total sulfur dioxide + alcohol, volatile acidity + 2*sulphates + alcohol, citric acid + 2*residual sugar + total sulfur dioxide, citric acid + 2*chlorides + free sulfur dioxide, citric acid + 2*free sulfur dioxide + pH, citric acid + 2*free sulfur dioxide + alcohol, citric acid + 2*total sulfur dioxide + sulphates, citric acid + 2*total sulfur dioxide + alcohol, residual sugar + 2*chlorides + free sulfur dioxide, residual sugar + 2*chlorides + pH, residual sugar + 2*free sulfur dioxide + total sulfur dioxide, residual sugar + 2*free sulfur dioxide + sulphates, residual sugar + 2*free sulfur dioxide + alcohol, residual sugar + 2*total sulfur dioxide + pH, residual sugar + 2*total sulfur dioxide + sulphates, residual sugar + 2*total sulfur dioxide + alcohol, residual sugar + 2*pH + sulphates, chlorides + 2*free sulfur dioxide + total sulfur dioxide, chlorides + 2*free sulfur dioxide + sulphates, chlorides + 2*total sulfur dioxide + pH, chlorides + 2*total sulfur dioxide + sulphates, chlorides + 2*total sulfur dioxide + alcohol, chlorides + 2*pH + sulphates, free sulfur dioxide + 2*total sulfur dioxide + sulphates, free sulfur dioxide + 2*pH + sulphates, free sulfur dioxide + 2*sulphates + alcohol, total sulfur dioxide + 2*pH + sulphates, total sulfur dioxide + 2*pH + alcohol, total sulfur dioxide + 2*sulphates + alcohol, pH + 2*sulphates + alcohol, fixed acidity + citric acid + 2*total sulfur dioxide, fixed acidity + residual sugar + 2*free sulfur dioxide, fixed acidity + residual sugar + 2*total sulfur dioxide, fixed acidity + residual sugar + 2*sulphates, fixed acidity + residual sugar + 2*alcohol, fixed acidity + chlorides + 2*pH, fixed acidity + chlorides + 2*alcohol, fixed acidity + free sulfur dioxide + 2*total sulfur dioxide, fixed acidity + free sulfur dioxide + 2*pH, fixed acidity + free sulfur dioxide + 2*sulphates, fixed acidity + free sulfur dioxide + 2*alcohol, volatile acidity + residual sugar + 2*chlorides, volatile acidity + residual sugar + 2*total sulfur dioxide, volatile acidity + chlorides + 2*total sulfur dioxide, volatile acidity + free sulfur dioxide + 2*total sulfur dioxide, volatile acidity + free sulfur dioxide + 2*alcohol, volatile acidity + total sulfur dioxide + 2*sulphates, volatile acidity + total sulfur dioxide + 2*alcohol, volatile acidity + pH + 2*alcohol, citric acid + chlorides + 2*pH, citric acid + free sulfur dioxide + 2*total sulfur dioxide, citric acid + total sulfur dioxide + 2*pH, citric acid + pH + 2*sulphates, residual sugar + chlorides + 2*free sulfur dioxide, residual sugar + chlorides + 2*total sulfur dioxide, residual sugar + free sulfur dioxide + 2*total sulfur dioxide, residual sugar + free sulfur dioxide + 2*sulphates, residual sugar + free sulfur dioxide + 2*alcohol, residual sugar + total sulfur dioxide + 2*pH, residual sugar + total sulfur dioxide + 2*alcohol, residual sugar + sulphates + 2*alcohol, chlorides + free sulfur dioxide + 2*total sulfur dioxide, chlorides + free sulfur dioxide + 2*sulphates, chlorides + free sulfur dioxide + 2*alcohol, chlorides + total sulfur dioxide + 2*pH, chlorides + total sulfur dioxide + 2*sulphates, chlorides + total sulfur dioxide + 2*alcohol, chlorides + pH + 2*alcohol, chlorides + sulphates + 2*alcohol, free sulfur dioxide + total sulfur dioxide + 2*pH, free sulfur dioxide + total sulfur dioxide + 2*sulphates, free sulfur dioxide + total sulfur dioxide + 2*alcohol, free sulfur dioxide + pH + 2*sulphates, free sulfur dioxide + sulphates + 2*alcohol, total sulfur dioxide + pH + 2*sulphates, total sulfur dioxide + pH + 2*alcohol, total sulfur dioxide + sulphates + 2*alcohol, pH + sulphates + 2*alcohol, 3*fixed acidity + total sulfur dioxide, 3*chlorides + free sulfur dioxide, 3*chlorides + total sulfur dioxide, 3*chlorides + pH, 3*free sulfur dioxide + sulphates, 3*total sulfur dioxide + sulphates, 3*total sulfur dioxide + alcohol, 3*pH + sulphates, 3*pH + alcohol, fixed acidity + 3*volatile acidity, fixed acidity + 3*chlorides, fixed acidity + 3*free sulfur dioxide, fixed acidity + 3*total sulfur dioxide, fixed acidity + 3*pH, volatile acidity + 3*residual sugar, volatile acidity + 3*alcohol, residual sugar + 3*total sulfur dioxide, residual sugar + 3*pH, residual sugar + 3*alcohol, chlorides + 3*free sulfur dioxide, chlorides + 3*total sulfur dioxide, chlorides + 3*pH, chlorides + 3*sulphates, free sulfur dioxide + 3*total sulfur dioxide, free sulfur dioxide + 3*pH, free sulfur dioxide + 3*sulphates, free sulfur dioxide + 3*alcohol, total sulfur dioxide + 3*pH, total sulfur dioxide + 3*sulphates, total sulfur dioxide + 3*alcohol, pH + 3*alcohol, sulphates + 3*alcohol, 2*fixed acidity + 2*chlorides, 2*fixed acidity + 2*free sulfur dioxide, 2*residual sugar + 2*total sulfur dioxide, 2*chlorides + 2*free sulfur dioxide, 2*chlorides + 2*pH, 2*chlorides + 2*alcohol, 2*free sulfur dioxide + 2*sulphates, 2*free sulfur dioxide + 2*alcohol, 2*total sulfur dioxide + 2*pH, 2*total sulfur dioxide + 2*alcohol, 2*pH + 2*alcohol, 2*sulphates + 2*alcohol, 4*citric acid, 4*free sulfur dioxide, 4*pH, 4*alcohol\n",
      "- Blanc => 6: fixed acidity + volatile acidity + citric acid + residual sugar, fixed acidity + volatile acidity + citric acid + total sulfur dioxide, fixed acidity + volatile acidity + citric acid + sulphates, fixed acidity + volatile acidity + citric acid + alcohol, fixed acidity + volatile acidity + residual sugar + density, fixed acidity + volatile acidity + residual sugar + alcohol, fixed acidity + volatile acidity + free sulfur dioxide + density, fixed acidity + volatile acidity + total sulfur dioxide + alcohol, fixed acidity + citric acid + residual sugar + total sulfur dioxide, fixed acidity + citric acid + residual sugar + sulphates, fixed acidity + citric acid + free sulfur dioxide + sulphates, fixed acidity + citric acid + total sulfur dioxide + alcohol, fixed acidity + citric acid + pH + sulphates, fixed acidity + citric acid + sulphates + alcohol, fixed acidity + residual sugar + total sulfur dioxide + density, fixed acidity + residual sugar + density + sulphates, fixed acidity + residual sugar + density + alcohol, fixed acidity + residual sugar + sulphates + alcohol, fixed acidity + chlorides + total sulfur dioxide + density, fixed acidity + chlorides + density + sulphates, fixed acidity + chlorides + pH + alcohol, fixed acidity + total sulfur dioxide + density + pH, fixed acidity + total sulfur dioxide + density + sulphates, fixed acidity + density + pH + sulphates, fixed acidity + density + pH + alcohol, volatile acidity + citric acid + chlorides + sulphates, volatile acidity + citric acid + total sulfur dioxide + density, volatile acidity + citric acid + total sulfur dioxide + sulphates, volatile acidity + citric acid + sulphates + alcohol, volatile acidity + residual sugar + total sulfur dioxide + density, volatile acidity + residual sugar + total sulfur dioxide + sulphates, volatile acidity + residual sugar + total sulfur dioxide + alcohol, volatile acidity + residual sugar + density + sulphates, volatile acidity + residual sugar + pH + sulphates, volatile acidity + chlorides + total sulfur dioxide + density, volatile acidity + chlorides + total sulfur dioxide + sulphates, volatile acidity + chlorides + density + sulphates, volatile acidity + density + sulphates + alcohol, citric acid + residual sugar + chlorides + sulphates, citric acid + residual sugar + chlorides + alcohol, citric acid + residual sugar + free sulfur dioxide + density, citric acid + residual sugar + total sulfur dioxide + density, citric acid + residual sugar + density + sulphates, citric acid + residual sugar + pH + sulphates, citric acid + chlorides + total sulfur dioxide + density, citric acid + chlorides + total sulfur dioxide + pH, citric acid + total sulfur dioxide + density + sulphates, citric acid + total sulfur dioxide + density + alcohol, citric acid + total sulfur dioxide + sulphates + alcohol, citric acid + pH + sulphates + alcohol, residual sugar + chlorides + total sulfur dioxide + density, residual sugar + chlorides + density + sulphates, residual sugar + chlorides + density + alcohol, residual sugar + free sulfur dioxide + density + sulphates, residual sugar + total sulfur dioxide + density + sulphates, residual sugar + total sulfur dioxide + density + alcohol, residual sugar + density + pH + sulphates, residual sugar + density + sulphates + alcohol, chlorides + density + pH + sulphates, chlorides + density + sulphates + alcohol, free sulfur dioxide + total sulfur dioxide + density + pH, free sulfur dioxide + total sulfur dioxide + density + sulphates, total sulfur dioxide + density + pH + sulphates, total sulfur dioxide + density + pH + alcohol, total sulfur dioxide + density + sulphates + alcohol, density + pH + sulphates + alcohol, 2*fixed acidity + volatile acidity + total sulfur dioxide, 2*fixed acidity + volatile acidity + sulphates, 2*fixed acidity + citric acid + total sulfur dioxide, 2*fixed acidity + citric acid + alcohol, 2*fixed acidity + residual sugar + free sulfur dioxide, 2*fixed acidity + residual sugar + alcohol, 2*fixed acidity + chlorides + alcohol, 2*fixed acidity + total sulfur dioxide + density, 2*fixed acidity + total sulfur dioxide + alcohol, 2*fixed acidity + pH + sulphates, 2*fixed acidity + pH + alcohol, 2*fixed acidity + sulphates + alcohol, 2*volatile acidity + citric acid + residual sugar, 2*volatile acidity + citric acid + sulphates, 2*volatile acidity + citric acid + alcohol, 2*volatile acidity + residual sugar + alcohol, 2*volatile acidity + chlorides + alcohol, 2*volatile acidity + total sulfur dioxide + density, 2*volatile acidity + pH + sulphates, 2*citric acid + residual sugar + total sulfur dioxide, 2*citric acid + residual sugar + density, 2*citric acid + residual sugar + sulphates, 2*citric acid + chlorides + total sulfur dioxide, 2*citric acid + total sulfur dioxide + sulphates, 2*citric acid + pH + sulphates, 2*residual sugar + chlorides + density, 2*residual sugar + chlorides + pH, 2*residual sugar + total sulfur dioxide + density, 2*residual sugar + total sulfur dioxide + sulphates, 2*residual sugar + total sulfur dioxide + alcohol, 2*residual sugar + density + pH, 2*residual sugar + density + sulphates, 2*residual sugar + density + alcohol, 2*residual sugar + sulphates + alcohol, 2*chlorides + total sulfur dioxide + density, 2*chlorides + total sulfur dioxide + sulphates, 2*free sulfur dioxide + total sulfur dioxide + sulphates, 2*pH + sulphates + alcohol, fixed acidity + 2*volatile acidity + citric acid, fixed acidity + 2*volatile acidity + residual sugar, fixed acidity + 2*volatile acidity + density, fixed acidity + 2*volatile acidity + sulphates, fixed acidity + 2*residual sugar + density, fixed acidity + 2*residual sugar + pH, fixed acidity + 2*residual sugar + sulphates, fixed acidity + 2*residual sugar + alcohol, fixed acidity + 2*total sulfur dioxide + density, fixed acidity + 2*total sulfur dioxide + sulphates, fixed acidity + 2*sulphates + alcohol, volatile acidity + 2*citric acid + residual sugar, volatile acidity + 2*citric acid + sulphates, volatile acidity + 2*residual sugar + density, volatile acidity + 2*pH + sulphates, citric acid + 2*residual sugar + density, citric acid + 2*residual sugar + sulphates, citric acid + 2*chlorides + total sulfur dioxide, citric acid + 2*chlorides + pH, citric acid + 2*pH + sulphates, citric acid + 2*sulphates + alcohol, residual sugar + 2*chlorides + density, residual sugar + 2*chlorides + sulphates, residual sugar + 2*density + pH, residual sugar + 2*density + sulphates, residual sugar + 2*sulphates + alcohol, chlorides + 2*sulphates + alcohol, free sulfur dioxide + 2*total sulfur dioxide + alcohol, total sulfur dioxide + 2*density + sulphates, density + 2*pH + sulphates, density + 2*sulphates + alcohol, fixed acidity + volatile acidity + 2*residual sugar, fixed acidity + citric acid + 2*residual sugar, fixed acidity + citric acid + 2*pH, fixed acidity + citric acid + 2*alcohol, fixed acidity + residual sugar + 2*chlorides, fixed acidity + chlorides + 2*sulphates, fixed acidity + density + 2*sulphates, fixed acidity + density + 2*alcohol, fixed acidity + pH + 2*sulphates, fixed acidity + sulphates + 2*alcohol, volatile acidity + chlorides + 2*sulphates, volatile acidity + sulphates + 2*alcohol, citric acid + residual sugar + 2*chlorides, citric acid + residual sugar + 2*density, citric acid + residual sugar + 2*pH, citric acid + residual sugar + 2*sulphates, citric acid + chlorides + 2*sulphates, citric acid + pH + 2*alcohol, citric acid + sulphates + 2*alcohol, residual sugar + chlorides + 2*density, residual sugar + chlorides + 2*sulphates, residual sugar + chlorides + 2*alcohol, residual sugar + free sulfur dioxide + 2*density, residual sugar + total sulfur dioxide + 2*density, residual sugar + density + 2*pH, residual sugar + density + 2*sulphates, chlorides + density + 2*sulphates, chlorides + pH + 2*sulphates, free sulfur dioxide + density + 2*sulphates, total sulfur dioxide + density + 2*sulphates, total sulfur dioxide + density + 2*alcohol, density + pH + 2*sulphates, density + sulphates + 2*alcohol, 3*fixed acidity + residual sugar, 3*fixed acidity + chlorides, 3*fixed acidity + free sulfur dioxide, 3*fixed acidity + sulphates, 3*volatile acidity + alcohol, 3*citric acid + residual sugar, 3*citric acid + chlorides, 3*citric acid + total sulfur dioxide, 3*citric acid + sulphates, 3*residual sugar + pH, 3*residual sugar + sulphates, 3*residual sugar + alcohol, 3*chlorides + sulphates, 3*sulphates + alcohol, fixed acidity + 3*citric acid, fixed acidity + 3*sulphates, fixed acidity + 3*alcohol, citric acid + 3*sulphates, residual sugar + 3*chlorides, residual sugar + 3*density, residual sugar + 3*sulphates, chlorides + 3*alcohol, pH + 3*sulphates, 2*fixed acidity + 2*volatile acidity, 2*fixed acidity + 2*residual sugar, 2*fixed acidity + 2*pH, 2*fixed acidity + 2*sulphates, 2*volatile acidity + 2*residual sugar, 2*citric acid + 2*sulphates, 2*residual sugar + 2*chlorides, 2*residual sugar + 2*density, 2*residual sugar + 2*pH, 2*residual sugar + 2*sulphates, 2*density + 2*sulphates, 2*pH + 2*sulphates\n"
     ]
    }
   ],
   "source": [
    "print_features_per_class(classes, veronese_feature_names(features, lattice_points), sector_indicator)"
   ]
  },
  {
   "cell_type": "code",
   "execution_count": 18,
   "metadata": {},
   "outputs": [
    {
     "name": "stderr",
     "output_type": "stream",
     "text": [
      "100%|██████████| 50/50 [01:08<00:00,  1.37s/it]\n",
      "100%|██████████| 50/50 [01:10<00:00,  1.41s/it]\n",
      "100%|██████████| 50/50 [01:14<00:00,  1.49s/it]\n",
      "100%|██████████| 50/50 [01:13<00:00,  1.48s/it]\n"
     ]
    },
    {
     "name": "stdout",
     "output_type": "stream",
     "text": [
      "Accuracy (one-vs-all): 0.922\n"
     ]
    }
   ],
   "source": [
    "indicators, apices = fit_classifier_onevsall(Clist_train, x)\n",
    "accuracy_one_vs_all = accuracy_multiple(predict_onevsall(indicators, apices, Clist_train), Clist_test)\n",
    "print(f\"Accuracy (one-vs-all): {round(accuracy_one_vs_all, 3)}\")"
   ]
  }
 ],
 "metadata": {
  "kernelspec": {
   "display_name": "Python 3",
   "language": "python",
   "name": "python3"
  },
  "language_info": {
   "codemirror_mode": {
    "name": "ipython",
    "version": 3
   },
   "file_extension": ".py",
   "mimetype": "text/x-python",
   "name": "python",
   "nbconvert_exporter": "python",
   "pygments_lexer": "ipython3",
   "version": "3.9.6"
  }
 },
 "nbformat": 4,
 "nbformat_minor": 2
}
