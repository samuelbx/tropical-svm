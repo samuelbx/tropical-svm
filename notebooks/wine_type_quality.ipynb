{
 "cells": [
  {
   "cell_type": "code",
   "execution_count": 1,
   "metadata": {},
   "outputs": [],
   "source": [
    "from tropy.learn import fit_classifier, fit_classifier_onevsall, _inrad_eigenpair, predict_onevsall\n",
    "from tropy.metrics import accuracy_multiple, veronese_feature_names, print_features_per_class\n",
    "from tropy.ops import veronese\n",
    "from tropy.utils import simplex_lattice_points\n",
    "import pandas as pd\n",
    "import numpy as np\n",
    "from sklearn.model_selection import train_test_split\n",
    "from sklearn.preprocessing import MinMaxScaler\n",
    "\n",
    "np.set_printoptions(precision=3, suppress=True)"
   ]
  },
  {
   "cell_type": "code",
   "execution_count": 2,
   "metadata": {},
   "outputs": [],
   "source": [
    "classes = [(\"./data/winequality-red.csv\", False),\n",
    "           (\"./data/winequality-red.csv\", True),\n",
    "           (\"./data/winequality-white.csv\", False),\n",
    "           (\"./data/winequality-white.csv\", True)]\n",
    "\n",
    "lattice_points = None\n",
    "features = None\n",
    "\n",
    "def class_df(class_name, size=None, low_quality=False):\n",
    "  global lattice_points, features\n",
    "  base_df = pd.read_csv(class_name, delimiter=';', dtype=float)\n",
    "  if low_quality:\n",
    "      base_df = base_df[base_df[\"quality\"] <= 5]\n",
    "  else:\n",
    "      base_df = base_df[base_df[\"quality\"] >= 6]\n",
    "  features = base_df.columns.to_list()\n",
    "  df_class = base_df.loc[:, 'fixed acidity':'alcohol']\n",
    "  df_class = MinMaxScaler().fit_transform(df_class)\n",
    "  df_train, df_test = train_test_split(df_class, test_size=0.2, random_state=43)\n",
    "  Ctrain, Ctest = df_train.T, df_test.T\n",
    "\n",
    "  d = Ctrain.shape[0]\n",
    "  lattice_points = list(simplex_lattice_points(d, size))\n",
    "  Ctrain, Ctest = veronese(lattice_points, Ctrain), veronese(lattice_points, Ctest)\n",
    "\n",
    "  print(Ctrain.shape, Ctest.shape)\n",
    "  return Ctrain, Ctest"
   ]
  },
  {
   "cell_type": "code",
   "execution_count": 3,
   "metadata": {},
   "outputs": [],
   "source": [
    "size = 4"
   ]
  },
  {
   "cell_type": "code",
   "execution_count": 4,
   "metadata": {},
   "outputs": [
    {
     "name": "stdout",
     "output_type": "stream",
     "text": [
      "(1221, 684) (1221, 171)\n",
      "(1221, 595) (1221, 149)\n",
      "(1221, 2606) (1221, 652)\n",
      "(1221, 1312) (1221, 328)\n"
     ]
    }
   ],
   "source": [
    "Clist_train = []\n",
    "Clist_test = []\n",
    "for class_name, low_quality in classes:\n",
    "    train, test = class_df(class_name, size, low_quality)\n",
    "    Clist_train.append(train)\n",
    "    Clist_test.append(test)\n",
    "\n",
    "classes = [\"Rouge <= 5\", \"Rouge >= 6\", \"Blanc <= 5\", \"Blanc => 6\"]"
   ]
  },
  {
   "cell_type": "code",
   "execution_count": 5,
   "metadata": {},
   "outputs": [
    {
     "name": "stderr",
     "output_type": "stream",
     "text": [
      "100%|██████████| 50/50 [00:12<00:00,  4.17it/s]"
     ]
    },
    {
     "name": "stdout",
     "output_type": "stream",
     "text": [
      "Apex: [ 0.064 -0.151 -0.136 ...  0.777  0.672  0.697]\n",
      "Eigval: 8.881784197001252e-16\n"
     ]
    },
    {
     "name": "stderr",
     "output_type": "stream",
     "text": [
      "\n"
     ]
    }
   ],
   "source": [
    "x, l = _inrad_eigenpair(Clist_train, N=50)\n",
    "print(\"Apex:\", x)\n",
    "print(\"Eigval:\", l)"
   ]
  },
  {
   "cell_type": "code",
   "execution_count": 6,
   "metadata": {},
   "outputs": [],
   "source": [
    "predictor, sector_indicator = fit_classifier(Clist_train, x)"
   ]
  },
  {
   "cell_type": "code",
   "execution_count": 7,
   "metadata": {},
   "outputs": [
    {
     "name": "stdout",
     "output_type": "stream",
     "text": [
      "Accuracy: 0.787\n"
     ]
    }
   ],
   "source": [
    "accuracy = accuracy_multiple(predictor, Clist_test)\n",
    "print(f\"Accuracy: {round(accuracy, 3)}\")"
   ]
  },
  {
   "cell_type": "code",
   "execution_count": 8,
   "metadata": {},
   "outputs": [
    {
     "name": "stdout",
     "output_type": "stream",
     "text": [
      "Dominant features for each class:\n",
      "- Rouge <= 5: fixed acidity + citric acid + chlorides, fixed acidity + citric acid + free sulfur dioxide, fixed acidity + citric acid + density, fixed acidity + citric acid + sulphates, fixed acidity + density + alcohol, volatile acidity + citric acid + chlorides, volatile acidity + citric acid + density, volatile acidity + citric acid + pH, volatile acidity + citric acid + alcohol, volatile acidity + residual sugar + pH, volatile acidity + chlorides + free sulfur dioxide, volatile acidity + chlorides + density, volatile acidity + chlorides + alcohol, volatile acidity + free sulfur dioxide + density, volatile acidity + free sulfur dioxide + pH, volatile acidity + free sulfur dioxide + alcohol, volatile acidity + density + pH, volatile acidity + density + alcohol, volatile acidity + pH + alcohol, citric acid + residual sugar + alcohol, citric acid + chlorides + density, citric acid + chlorides + alcohol, citric acid + free sulfur dioxide + density, citric acid + free sulfur dioxide + sulphates, citric acid + free sulfur dioxide + alcohol, citric acid + density + pH, citric acid + density + sulphates, citric acid + density + alcohol, citric acid + pH + alcohol, residual sugar + free sulfur dioxide + alcohol, chlorides + free sulfur dioxide + density, chlorides + density + pH, free sulfur dioxide + density + alcohol, density + pH + alcohol, 2*fixed acidity + citric acid, 2*volatile acidity + citric acid, 2*volatile acidity + residual sugar, 2*volatile acidity + chlorides, 2*volatile acidity + free sulfur dioxide, 2*volatile acidity + density, 2*volatile acidity + pH, 2*volatile acidity + sulphates, 2*volatile acidity + alcohol, 2*citric acid + free sulfur dioxide, 2*citric acid + density, 2*citric acid + alcohol, 2*residual sugar + chlorides, 2*residual sugar + free sulfur dioxide, 2*chlorides + density, 2*free sulfur dioxide + density, 2*density + sulphates, fixed acidity + 2*citric acid, fixed acidity + 2*residual sugar, volatile acidity + 2*citric acid, volatile acidity + 2*density, citric acid + 2*residual sugar, citric acid + 2*chlorides, citric acid + 2*free sulfur dioxide, citric acid + 2*alcohol, chlorides + 2*density, chlorides + 2*sulphates, chlorides + 2*alcohol, free sulfur dioxide + 2*density, density + 2*alcohol, 3*volatile acidity, 3*citric acid\n",
      "- Rouge >= 6: fixed acidity + volatile acidity + citric acid, fixed acidity + volatile acidity + chlorides, fixed acidity + volatile acidity + free sulfur dioxide, fixed acidity + volatile acidity + total sulfur dioxide, fixed acidity + volatile acidity + sulphates, fixed acidity + volatile acidity + alcohol, fixed acidity + citric acid + residual sugar, fixed acidity + citric acid + pH, fixed acidity + chlorides + sulphates, fixed acidity + free sulfur dioxide + density, fixed acidity + pH + alcohol, volatile acidity + residual sugar + free sulfur dioxide, volatile acidity + residual sugar + total sulfur dioxide, volatile acidity + free sulfur dioxide + total sulfur dioxide, volatile acidity + total sulfur dioxide + density, citric acid + chlorides + sulphates, citric acid + free sulfur dioxide + total sulfur dioxide, citric acid + free sulfur dioxide + pH, citric acid + total sulfur dioxide + density, citric acid + total sulfur dioxide + pH, citric acid + pH + sulphates, residual sugar + free sulfur dioxide + density, residual sugar + total sulfur dioxide + pH, residual sugar + pH + alcohol, chlorides + free sulfur dioxide + pH, chlorides + free sulfur dioxide + sulphates, chlorides + total sulfur dioxide + density, free sulfur dioxide + total sulfur dioxide + density, free sulfur dioxide + density + pH, free sulfur dioxide + density + sulphates, total sulfur dioxide + density + pH, 2*fixed acidity + volatile acidity, 2*volatile acidity + total sulfur dioxide, 2*citric acid + total sulfur dioxide, 2*citric acid + pH, 2*residual sugar + total sulfur dioxide, 2*free sulfur dioxide + pH, 2*total sulfur dioxide + density, fixed acidity + 2*chlorides, volatile acidity + 2*chlorides, volatile acidity + 2*free sulfur dioxide, volatile acidity + 2*pH, volatile acidity + 2*sulphates, citric acid + 2*total sulfur dioxide, citric acid + 2*pH, residual sugar + 2*free sulfur dioxide, residual sugar + 2*total sulfur dioxide, residual sugar + 2*pH, free sulfur dioxide + 2*pH, density + 2*pH, 3*residual sugar, 3*total sulfur dioxide, 3*density\n",
      "- Blanc <= 5: fixed acidity + volatile acidity + pH, fixed acidity + citric acid + alcohol, fixed acidity + residual sugar + chlorides, fixed acidity + residual sugar + free sulfur dioxide, fixed acidity + residual sugar + total sulfur dioxide, fixed acidity + residual sugar + pH, fixed acidity + residual sugar + sulphates, fixed acidity + chlorides + free sulfur dioxide, fixed acidity + chlorides + total sulfur dioxide, fixed acidity + chlorides + pH, fixed acidity + free sulfur dioxide + total sulfur dioxide, fixed acidity + free sulfur dioxide + pH, fixed acidity + free sulfur dioxide + sulphates, fixed acidity + free sulfur dioxide + alcohol, fixed acidity + total sulfur dioxide + pH, fixed acidity + pH + sulphates, volatile acidity + citric acid + free sulfur dioxide, volatile acidity + residual sugar + chlorides, volatile acidity + residual sugar + alcohol, volatile acidity + chlorides + total sulfur dioxide, volatile acidity + chlorides + pH, volatile acidity + free sulfur dioxide + sulphates, volatile acidity + total sulfur dioxide + pH, volatile acidity + total sulfur dioxide + alcohol, volatile acidity + sulphates + alcohol, citric acid + residual sugar + total sulfur dioxide, citric acid + residual sugar + sulphates, citric acid + chlorides + free sulfur dioxide, citric acid + total sulfur dioxide + alcohol, residual sugar + chlorides + free sulfur dioxide, residual sugar + chlorides + total sulfur dioxide, residual sugar + chlorides + pH, residual sugar + chlorides + alcohol, residual sugar + free sulfur dioxide + total sulfur dioxide, residual sugar + free sulfur dioxide + pH, residual sugar + free sulfur dioxide + sulphates, residual sugar + total sulfur dioxide + sulphates, residual sugar + total sulfur dioxide + alcohol, residual sugar + pH + sulphates, chlorides + free sulfur dioxide + total sulfur dioxide, chlorides + free sulfur dioxide + alcohol, chlorides + total sulfur dioxide + pH, chlorides + total sulfur dioxide + alcohol, chlorides + pH + alcohol, free sulfur dioxide + total sulfur dioxide + pH, free sulfur dioxide + total sulfur dioxide + sulphates, free sulfur dioxide + total sulfur dioxide + alcohol, free sulfur dioxide + pH + sulphates, free sulfur dioxide + pH + alcohol, free sulfur dioxide + sulphates + alcohol, total sulfur dioxide + pH + sulphates, total sulfur dioxide + pH + alcohol, total sulfur dioxide + sulphates + alcohol, pH + sulphates + alcohol, 2*fixed acidity + chlorides, 2*fixed acidity + free sulfur dioxide, 2*fixed acidity + total sulfur dioxide, 2*fixed acidity + pH, 2*chlorides + free sulfur dioxide, 2*chlorides + total sulfur dioxide, 2*chlorides + pH, 2*chlorides + alcohol, 2*free sulfur dioxide + total sulfur dioxide, 2*free sulfur dioxide + sulphates, 2*free sulfur dioxide + alcohol, 2*total sulfur dioxide + pH, 2*total sulfur dioxide + sulphates, 2*total sulfur dioxide + alcohol, 2*pH + sulphates, 2*pH + alcohol, 2*sulphates + alcohol, fixed acidity + 2*free sulfur dioxide, fixed acidity + 2*total sulfur dioxide, fixed acidity + 2*pH, fixed acidity + 2*alcohol, volatile acidity + 2*residual sugar, volatile acidity + 2*total sulfur dioxide, volatile acidity + 2*alcohol, chlorides + 2*free sulfur dioxide, chlorides + 2*total sulfur dioxide, chlorides + 2*pH, free sulfur dioxide + 2*total sulfur dioxide, free sulfur dioxide + 2*sulphates, free sulfur dioxide + 2*alcohol, total sulfur dioxide + 2*pH, total sulfur dioxide + 2*sulphates, total sulfur dioxide + 2*alcohol, pH + 2*sulphates, pH + 2*alcohol, sulphates + 2*alcohol, 3*fixed acidity, 3*chlorides, 3*free sulfur dioxide, 3*pH, 3*sulphates, 3*alcohol\n",
      "- Blanc => 6: fixed acidity + volatile acidity + residual sugar, fixed acidity + volatile acidity + density, fixed acidity + citric acid + total sulfur dioxide, fixed acidity + residual sugar + density, fixed acidity + residual sugar + alcohol, fixed acidity + chlorides + density, fixed acidity + chlorides + alcohol, fixed acidity + total sulfur dioxide + density, fixed acidity + total sulfur dioxide + sulphates, fixed acidity + total sulfur dioxide + alcohol, fixed acidity + density + pH, fixed acidity + density + sulphates, fixed acidity + sulphates + alcohol, volatile acidity + citric acid + residual sugar, volatile acidity + citric acid + total sulfur dioxide, volatile acidity + citric acid + sulphates, volatile acidity + residual sugar + density, volatile acidity + residual sugar + sulphates, volatile acidity + chlorides + sulphates, volatile acidity + total sulfur dioxide + sulphates, volatile acidity + density + sulphates, volatile acidity + pH + sulphates, citric acid + residual sugar + chlorides, citric acid + residual sugar + free sulfur dioxide, citric acid + residual sugar + density, citric acid + residual sugar + pH, citric acid + chlorides + total sulfur dioxide, citric acid + chlorides + pH, citric acid + total sulfur dioxide + sulphates, citric acid + sulphates + alcohol, residual sugar + chlorides + density, residual sugar + chlorides + sulphates, residual sugar + total sulfur dioxide + density, residual sugar + density + pH, residual sugar + density + sulphates, residual sugar + density + alcohol, residual sugar + sulphates + alcohol, chlorides + total sulfur dioxide + sulphates, chlorides + density + sulphates, chlorides + density + alcohol, chlorides + pH + sulphates, chlorides + sulphates + alcohol, total sulfur dioxide + density + sulphates, total sulfur dioxide + density + alcohol, density + pH + sulphates, density + sulphates + alcohol, 2*fixed acidity + residual sugar, 2*fixed acidity + density, 2*fixed acidity + sulphates, 2*fixed acidity + alcohol, 2*citric acid + residual sugar, 2*citric acid + chlorides, 2*citric acid + sulphates, 2*residual sugar + density, 2*residual sugar + pH, 2*residual sugar + sulphates, 2*residual sugar + alcohol, 2*chlorides + sulphates, 2*density + pH, 2*density + alcohol, fixed acidity + 2*volatile acidity, fixed acidity + 2*density, fixed acidity + 2*sulphates, citric acid + 2*density, citric acid + 2*sulphates, residual sugar + 2*chlorides, residual sugar + 2*density, residual sugar + 2*sulphates, residual sugar + 2*alcohol, total sulfur dioxide + 2*density, density + 2*sulphates\n"
     ]
    }
   ],
   "source": [
    "print_features_per_class(classes, veronese_feature_names(features, lattice_points), sector_indicator)"
   ]
  },
  {
   "cell_type": "code",
   "execution_count": 9,
   "metadata": {},
   "outputs": [
    {
     "name": "stderr",
     "output_type": "stream",
     "text": [
      "  0%|          | 0/50 [00:00<?, ?it/s]/Users/sam/Documents/Code/tropical-svm/tropy/learn.py:118: RuntimeWarning: invalid value encountered in subtract\n",
      "  new_x = z - np.max(z) * np.ones_like(x0)\n",
      "100%|██████████| 50/50 [00:13<00:00,  3.74it/s]\n",
      "100%|██████████| 50/50 [00:12<00:00,  4.11it/s]\n",
      "100%|██████████| 50/50 [00:12<00:00,  4.14it/s]\n",
      "100%|██████████| 50/50 [00:12<00:00,  3.86it/s]\n"
     ]
    },
    {
     "name": "stdout",
     "output_type": "stream",
     "text": [
      "Accuracy (one-vs-all): 0.502\n"
     ]
    }
   ],
   "source": [
    "indicators, apices = fit_classifier_onevsall(Clist_train, x)\n",
    "accuracy_one_vs_all = accuracy_multiple(predict_onevsall(indicators, apices, Clist_train), Clist_test)\n",
    "print(f\"Accuracy (one-vs-all): {round(accuracy_one_vs_all, 3)}\")"
   ]
  }
 ],
 "metadata": {
  "kernelspec": {
   "display_name": "Python 3",
   "language": "python",
   "name": "python3"
  },
  "language_info": {
   "codemirror_mode": {
    "name": "ipython",
    "version": 3
   },
   "file_extension": ".py",
   "mimetype": "text/x-python",
   "name": "python",
   "nbconvert_exporter": "python",
   "pygments_lexer": "ipython3",
   "version": "3.9.6"
  }
 },
 "nbformat": 4,
 "nbformat_minor": 2
}
