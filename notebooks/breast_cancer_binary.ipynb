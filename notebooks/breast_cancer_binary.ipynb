{
 "cells": [
  {
   "cell_type": "code",
   "execution_count": 1,
   "metadata": {},
   "outputs": [],
   "source": [
    "from tropy.learn import fit_classifier, fit_classifier_onevsall, _inrad_eigenpair, predict_onevsall\n",
    "from tropy.metrics import accuracy_multiple, veronese_feature_names, print_features_per_class\n",
    "from tropy.ops import veronese\n",
    "from tropy.utils import simplex_lattice_points\n",
    "import pandas as pd\n",
    "import numpy as np\n",
    "from sklearn.model_selection import train_test_split\n",
    "\n",
    "np.set_printoptions(precision=3, suppress=True)"
   ]
  },
  {
   "cell_type": "code",
   "execution_count": 2,
   "metadata": {},
   "outputs": [],
   "source": [
    "base_df = pd.read_csv('./data/breast_cancer.csv')\n",
    "df = base_df.loc[:, 'radius_mean':'fractal_dimension_worst']\n",
    "features = df.columns.to_list()\n",
    "classes = [\"M\", \"B\"]\n",
    "lattice_points = None\n",
    "\n",
    "def class_df(class_name, size=None):\n",
    "  global lattice_points\n",
    "  df_class = df[base_df[\"diagnosis\"].str.contains(class_name)]\n",
    "  df_train, df_test = train_test_split(df_class, test_size=0.2, random_state=43)\n",
    "  Ctrain, Ctest = df_train.to_numpy(dtype=float).T, df_test.to_numpy(dtype=float).T\n",
    "\n",
    "  if size is not None:\n",
    "    d = Ctrain.shape[0]\n",
    "    lattice_points = list(simplex_lattice_points(d, size))\n",
    "    Ctrain, Ctest = veronese(lattice_points, Ctrain), veronese(lattice_points, Ctest)\n",
    "\n",
    "  print(Ctrain.shape, Ctest.shape)\n",
    "  return Ctrain, Ctest"
   ]
  },
  {
   "cell_type": "code",
   "execution_count": 3,
   "metadata": {},
   "outputs": [],
   "source": [
    "size = None"
   ]
  },
  {
   "cell_type": "code",
   "execution_count": 4,
   "metadata": {},
   "outputs": [
    {
     "name": "stdout",
     "output_type": "stream",
     "text": [
      "(30, 169) (30, 43)\n",
      "(30, 285) (30, 72)\n"
     ]
    }
   ],
   "source": [
    "Clist_train, Clist_test = [], []\n",
    "for class_name in classes:\n",
    "  train, test = class_df(class_name, size)\n",
    "  Clist_train.append(train)\n",
    "  Clist_test.append(test)"
   ]
  },
  {
   "cell_type": "code",
   "execution_count": 5,
   "metadata": {},
   "outputs": [
    {
     "name": "stderr",
     "output_type": "stream",
     "text": [
      "100%|██████████| 50/50 [00:00<00:00, 3118.91it/s]"
     ]
    },
    {
     "name": "stdout",
     "output_type": "stream",
     "text": [
      "Apex: [ -63.564  -50.092   25.596  796.096  -79.185  -79.141  -79.161  -79.231\n",
      "  -79.084  -79.227  -78.648  -77.094  -74.401   -2.419  -79.283  -79.265\n",
      "  -79.26   -79.279  -79.274  -79.287  -61.908  -39.201   36.196 1013.996\n",
      "  -79.122  -78.821  -78.729  -79.131  -78.887  -79.19 ]\n",
      "Eigval: 0.00018700725649978267\n"
     ]
    },
    {
     "name": "stderr",
     "output_type": "stream",
     "text": [
      "\n"
     ]
    }
   ],
   "source": [
    "x, l = _inrad_eigenpair(Clist_train, N=50)\n",
    "print(\"Apex:\", x)\n",
    "print(\"Eigval:\", l)"
   ]
  },
  {
   "cell_type": "code",
   "execution_count": 6,
   "metadata": {},
   "outputs": [
    {
     "name": "stderr",
     "output_type": "stream",
     "text": [
      "100%|██████████| 50/50 [00:00<00:00, 2621.37it/s]\n",
      "100%|██████████| 50/50 [00:00<00:00, 3039.35it/s]\n"
     ]
    }
   ],
   "source": [
    "predictor, sector_indicator = fit_classifier(Clist_train, x)\n",
    "indicators, apices = fit_classifier_onevsall(Clist_train)"
   ]
  },
  {
   "cell_type": "code",
   "execution_count": 7,
   "metadata": {},
   "outputs": [
    {
     "name": "stdout",
     "output_type": "stream",
     "text": [
      "Accuracy: 0.896\n"
     ]
    }
   ],
   "source": [
    "accuracy = accuracy_multiple(predictor, Clist_test)\n",
    "print(f\"Accuracy: {round(accuracy, 3)}\")"
   ]
  },
  {
   "cell_type": "code",
   "execution_count": 8,
   "metadata": {},
   "outputs": [
    {
     "name": "stdout",
     "output_type": "stream",
     "text": [
      "Dominant features for each class:\n",
      "- M: radius_mean, texture_mean, perimeter_mean, area_mean, concavity_mean, concave points_mean, radius_se, perimeter_se, area_se, radius_worst, texture_worst, perimeter_worst, area_worst, smoothness_worst, compactness_worst, concavity_worst, concave points_worst, symmetry_worst, fractal_dimension_worst\n",
      "- B: smoothness_mean, compactness_mean, symmetry_mean, fractal_dimension_mean, texture_se, smoothness_se, compactness_se, concavity_se, concave points_se, symmetry_se, fractal_dimension_se\n"
     ]
    }
   ],
   "source": [
    "print_features_per_class(classes, features, sector_indicator)"
   ]
  }
 ],
 "metadata": {
  "kernelspec": {
   "display_name": "Python 3",
   "language": "python",
   "name": "python3"
  },
  "language_info": {
   "codemirror_mode": {
    "name": "ipython",
    "version": 3
   },
   "file_extension": ".py",
   "mimetype": "text/x-python",
   "name": "python",
   "nbconvert_exporter": "python",
   "pygments_lexer": "ipython3",
   "version": "3.9.6"
  }
 },
 "nbformat": 4,
 "nbformat_minor": 2
}
