{
 "cells": [
  {
   "cell_type": "code",
   "execution_count": 1,
   "metadata": {},
   "outputs": [],
   "source": [
    "from tropy.learn import fit_classifier, fit_classifier_onevsall, _inrad_eigenpair, predict_onevsall\n",
    "from tropy.metrics import accuracy_multiple, veronese_feature_names, print_features_per_class\n",
    "from tropy.ops import veronese\n",
    "from tropy.utils import simplex_lattice_points\n",
    "import pandas as pd\n",
    "import numpy as np\n",
    "from sklearn.model_selection import train_test_split\n",
    "from sklearn.preprocessing import MinMaxScaler\n",
    "\n",
    "np.set_printoptions(precision=3, suppress=True)"
   ]
  },
  {
   "cell_type": "code",
   "execution_count": 2,
   "metadata": {},
   "outputs": [],
   "source": [
    "lattice_points, features = None, None\n",
    "def class_df(class_name, size = None):\n",
    "  global lattice_points, features\n",
    "  df_class = pd.read_csv(class_name, delimiter=';', dtype=float).loc[:, 'fixed acidity':'alcohol']\n",
    "  features = df_class.columns.to_list()\n",
    "  df_class = MinMaxScaler().fit_transform(df_class)\n",
    "  df_train, df_test = train_test_split(df_class, test_size=0.2, random_state=43)\n",
    "  Ctrain, Ctest = df_train.T, df_test.T\n",
    "\n",
    "  if size is not None:\n",
    "    d = Ctrain.shape[0]\n",
    "    lattice_points = list(simplex_lattice_points(d, size))\n",
    "    Ctrain, Ctest = veronese(lattice_points, Ctrain), veronese(lattice_points, Ctest)\n",
    "\n",
    "  print(Ctrain.shape, Ctest.shape)\n",
    "  return Ctrain, Ctest\n",
    "\n",
    "classes = [\"./data/winequality-red.csv\", \"./data/winequality-white.csv\"]"
   ]
  },
  {
   "cell_type": "code",
   "execution_count": 3,
   "metadata": {},
   "outputs": [],
   "source": [
    "size = None"
   ]
  },
  {
   "cell_type": "code",
   "execution_count": 4,
   "metadata": {},
   "outputs": [
    {
     "name": "stdout",
     "output_type": "stream",
     "text": [
      "(11, 1279) (11, 320)\n",
      "(11, 3918) (11, 980)\n"
     ]
    }
   ],
   "source": [
    "Clist_train = []\n",
    "Clist_test = []\n",
    "for class_name in classes:\n",
    "  train, test = class_df(class_name, size)\n",
    "  Clist_train.append(train)\n",
    "  Clist_test.append(test)\n",
    "\n",
    "classes = [\"Red Wine\", \"White Wine\"]"
   ]
  },
  {
   "cell_type": "code",
   "execution_count": 5,
   "metadata": {},
   "outputs": [
    {
     "name": "stderr",
     "output_type": "stream",
     "text": [
      "100%|██████████| 15/15 [00:00<00:00, 1012.07it/s]"
     ]
    },
    {
     "name": "stdout",
     "output_type": "stream",
     "text": [
      "Apex: [ 0.033  0.241 -0.111 -0.318 -0.198 -0.148  0.021 -0.298  0.401  0.05\n",
      "  0.327]\n",
      "Eigval: 0.11619210832332949\n"
     ]
    },
    {
     "name": "stderr",
     "output_type": "stream",
     "text": [
      "\n"
     ]
    }
   ],
   "source": [
    "x, l = _inrad_eigenpair(Clist_train, N=15)\n",
    "print(\"Apex:\", x)\n",
    "print(\"Eigval:\", l)"
   ]
  },
  {
   "cell_type": "code",
   "execution_count": 6,
   "metadata": {},
   "outputs": [
    {
     "name": "stderr",
     "output_type": "stream",
     "text": [
      " 44%|████▍     | 22/50 [00:00<00:00, 934.50it/s]\n",
      " 44%|████▍     | 22/50 [00:00<00:00, 975.66it/s]\n"
     ]
    }
   ],
   "source": [
    "predictor, sector_indicator = fit_classifier(Clist_train, x)\n",
    "indicators, apices = fit_classifier_onevsall(Clist_train)"
   ]
  },
  {
   "cell_type": "code",
   "execution_count": 7,
   "metadata": {},
   "outputs": [
    {
     "name": "stdout",
     "output_type": "stream",
     "text": [
      "Accuracy: 0.756\n",
      "Accuracy (one-vs-all): 0.756\n"
     ]
    }
   ],
   "source": [
    "accuracy = accuracy_multiple(predictor, Clist_test)\n",
    "accuracy_one_vs_all = accuracy_multiple(predict_onevsall(indicators, apices, Clist_train), Clist_test)\n",
    "print(f\"Accuracy: {round(accuracy, 3)}\")\n",
    "print(f\"Accuracy (one-vs-all): {round(accuracy_one_vs_all, 3)}\")"
   ]
  },
  {
   "cell_type": "code",
   "execution_count": 8,
   "metadata": {},
   "outputs": [
    {
     "name": "stdout",
     "output_type": "stream",
     "text": [
      "Dominant features for each class:\n",
      "- Red Wine: free sulfur dioxide\n",
      "- White Wine: fixed acidity, volatile acidity, citric acid, residual sugar, chlorides, total sulfur dioxide, density, pH, sulphates, alcohol\n"
     ]
    }
   ],
   "source": [
    "if size == None:\n",
    "  print_features_per_class(classes, features, sector_indicator)\n",
    "else:\n",
    "  print_features_per_class(classes, veronese_feature_names(features, lattice_points), sector_indicator)"
   ]
  }
 ],
 "metadata": {
  "kernelspec": {
   "display_name": "Python 3",
   "language": "python",
   "name": "python3"
  },
  "language_info": {
   "codemirror_mode": {
    "name": "ipython",
    "version": 3
   },
   "file_extension": ".py",
   "mimetype": "text/x-python",
   "name": "python",
   "nbconvert_exporter": "python",
   "pygments_lexer": "ipython3",
   "version": "3.9.6"
  }
 },
 "nbformat": 4,
 "nbformat_minor": 2
}
