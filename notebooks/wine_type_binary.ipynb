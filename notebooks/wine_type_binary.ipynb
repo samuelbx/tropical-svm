{
 "cells": [
  {
   "cell_type": "code",
   "execution_count": 1,
   "metadata": {},
   "outputs": [],
   "source": [
    "from tropy.learn import fit_classifier, fit_classifier_onevsall, _inrad_eigenpair, predict_onevsall\n",
    "from tropy.metrics import accuracy_multiple, veronese_feature_names, print_features_per_class\n",
    "from tropy.ops import veronese\n",
    "from tropy.utils import simplex_lattice_points\n",
    "import pandas as pd\n",
    "import numpy as np\n",
    "from sklearn.model_selection import train_test_split\n",
    "from sklearn.preprocessing import MinMaxScaler\n",
    "\n",
    "np.set_printoptions(precision=3, suppress=True)"
   ]
  },
  {
   "cell_type": "code",
   "execution_count": 2,
   "metadata": {},
   "outputs": [],
   "source": [
    "lattice_points, features = None, None\n",
    "def class_df(class_name, size = None):\n",
    "  global lattice_points, features\n",
    "  df_class = pd.read_csv(class_name, delimiter=';', dtype=float).loc[:, 'fixed acidity':'alcohol']\n",
    "  features = df_class.columns.to_list()\n",
    "  df_class = MinMaxScaler().fit_transform(df_class)\n",
    "  df_train, df_test = train_test_split(df_class, test_size=0.2, random_state=43)\n",
    "  Ctrain, Ctest = df_train.T, df_test.T\n",
    "\n",
    "  d = Ctrain.shape[0]\n",
    "  lattice_points = list(simplex_lattice_points(d, size))\n",
    "  Ctrain, Ctest = veronese(lattice_points, Ctrain), veronese(lattice_points, Ctest)\n",
    "\n",
    "  print(Ctrain.shape, Ctest.shape)\n",
    "  return Ctrain, Ctest\n",
    "\n",
    "classes = [\"./data/winequality-red.csv\", \"./data/winequality-white.csv\"]"
   ]
  },
  {
   "cell_type": "code",
   "execution_count": 3,
   "metadata": {},
   "outputs": [],
   "source": [
    "size = 2"
   ]
  },
  {
   "cell_type": "code",
   "execution_count": 4,
   "metadata": {},
   "outputs": [
    {
     "name": "stdout",
     "output_type": "stream",
     "text": [
      "(121, 1279) (121, 320)\n",
      "(121, 3918) (121, 980)\n"
     ]
    }
   ],
   "source": [
    "Clist_train = []\n",
    "Clist_test = []\n",
    "for class_name in classes:\n",
    "  train, test = class_df(class_name, size)\n",
    "  Clist_train.append(train)\n",
    "  Clist_test.append(test)\n",
    "\n",
    "classes = [\"Red Wine\", \"White Wine\"]"
   ]
  },
  {
   "cell_type": "code",
   "execution_count": 5,
   "metadata": {},
   "outputs": [
    {
     "name": "stderr",
     "output_type": "stream",
     "text": [
      "100%|██████████| 15/15 [00:00<00:00, 41.95it/s]"
     ]
    },
    {
     "name": "stdout",
     "output_type": "stream",
     "text": [
      "Apex: [ 0.005  0.086 -0.171 -0.179 -0.169 -0.2   -0.105  0.035 -0.133  0.322\n",
      " -0.047 -0.058 -0.087 -0.141 -0.056 -0.024  0.314 -0.143  0.243 -0.062\n",
      "  0.034 -0.116  0.066 -0.111  0.175 -0.017  0.285 -0.385 -0.227 -0.098\n",
      "  0.069  0.056 -0.317  0.067 -0.245 -0.28  -0.257  0.039  0.023  0.147\n",
      " -0.067 -0.212  0.089 -0.119  0.116 -0.155  0.097 -0.209  0.107  0.052\n",
      " -0.215  0.056  0.08   0.322  0.157  0.005  0.086 -0.171 -0.179 -0.169\n",
      " -0.2   -0.105  0.035 -0.133  0.322 -0.047 -0.058 -0.087 -0.141 -0.056\n",
      " -0.024  0.314 -0.143  0.243 -0.062  0.034 -0.116  0.066 -0.111  0.175\n",
      " -0.017  0.285 -0.385 -0.227 -0.098  0.069  0.056 -0.317  0.067 -0.245\n",
      " -0.28  -0.257  0.039  0.023  0.147 -0.067 -0.212  0.089 -0.119  0.116\n",
      " -0.155  0.097 -0.209  0.107  0.052 -0.215  0.056  0.08   0.322  0.157\n",
      "  0.322  0.541  0.208  0.109  0.027 -0.026  0.2    0.109  0.691  0.3\n",
      "  0.641]\n",
      "Eigval: 2.2462120495170268e-05\n"
     ]
    },
    {
     "name": "stderr",
     "output_type": "stream",
     "text": [
      "\n"
     ]
    }
   ],
   "source": [
    "x, l = _inrad_eigenpair(Clist_train, N=15)\n",
    "print(\"Apex:\", x)\n",
    "print(\"Eigval:\", l)"
   ]
  },
  {
   "cell_type": "code",
   "execution_count": 6,
   "metadata": {},
   "outputs": [
    {
     "name": "stderr",
     "output_type": "stream",
     "text": [
      "100%|██████████| 50/50 [00:01<00:00, 44.89it/s]\n",
      "100%|██████████| 50/50 [00:01<00:00, 41.77it/s]\n"
     ]
    }
   ],
   "source": [
    "predictor, sector_indicator = fit_classifier(Clist_train, x)\n",
    "indicators, apices = fit_classifier_onevsall(Clist_train)"
   ]
  },
  {
   "cell_type": "code",
   "execution_count": 7,
   "metadata": {},
   "outputs": [
    {
     "name": "stdout",
     "output_type": "stream",
     "text": [
      "Accuracy: 0.99\n",
      "Accuracy (one-vs-all): 0.995\n"
     ]
    }
   ],
   "source": [
    "accuracy = accuracy_multiple(predictor, Clist_test)\n",
    "accuracy_one_vs_all = accuracy_multiple(predict_onevsall(indicators, apices, Clist_train), Clist_test)\n",
    "print(f\"Accuracy: {round(accuracy, 3)}\")\n",
    "print(f\"Accuracy (one-vs-all): {round(accuracy_one_vs_all, 3)}\")"
   ]
  },
  {
   "cell_type": "code",
   "execution_count": 8,
   "metadata": {},
   "outputs": [
    {
     "name": "stdout",
     "output_type": "stream",
     "text": [
      "Dominant features for each class:\n",
      "- Red Wine: fixed acidity + citric acid, fixed acidity + free sulfur dioxide, fixed acidity + density, volatile acidity + chlorides, volatile acidity + free sulfur dioxide, volatile acidity + density, volatile acidity + pH, citric acid + residual sugar, citric acid + free sulfur dioxide, citric acid + total sulfur dioxide, citric acid + density, citric acid + sulphates, residual sugar + free sulfur dioxide, residual sugar + total sulfur dioxide, residual sugar + pH, chlorides + density, free sulfur dioxide + density, free sulfur dioxide + pH, free sulfur dioxide + alcohol, total sulfur dioxide + density, density + pH, density + sulphates, density + alcohol, 2*volatile acidity, 2*residual sugar, 2*free sulfur dioxide, 2*total sulfur dioxide, 2*density\n",
      "- White Wine: fixed acidity + volatile acidity, fixed acidity + residual sugar, fixed acidity + chlorides, fixed acidity + total sulfur dioxide, fixed acidity + pH, fixed acidity + sulphates, fixed acidity + alcohol, volatile acidity + citric acid, volatile acidity + total sulfur dioxide, volatile acidity + sulphates, volatile acidity + alcohol, citric acid + pH, residual sugar + chlorides, residual sugar + density, residual sugar + sulphates, residual sugar + alcohol, chlorides + total sulfur dioxide, free sulfur dioxide + total sulfur dioxide, total sulfur dioxide + pH, total sulfur dioxide + sulphates, total sulfur dioxide + alcohol, pH + sulphates, pH + alcohol, sulphates + alcohol, 2*fixed acidity, 2*citric acid, 2*chlorides, 2*pH, 2*sulphates, 2*alcohol\n"
     ]
    }
   ],
   "source": [
    "if size == None:\n",
    "  print_features_per_class(classes, features, sector_indicator)\n",
    "else:\n",
    "  print_features_per_class(classes, veronese_feature_names(features, lattice_points), sector_indicator)"
   ]
  }
 ],
 "metadata": {
  "kernelspec": {
   "display_name": "Python 3",
   "language": "python",
   "name": "python3"
  },
  "language_info": {
   "codemirror_mode": {
    "name": "ipython",
    "version": 3
   },
   "file_extension": ".py",
   "mimetype": "text/x-python",
   "name": "python",
   "nbconvert_exporter": "python",
   "pygments_lexer": "ipython3",
   "version": "3.9.6"
  }
 },
 "nbformat": 4,
 "nbformat_minor": 2
}
