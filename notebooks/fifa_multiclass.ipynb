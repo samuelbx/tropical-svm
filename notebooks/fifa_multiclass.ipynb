{
 "cells": [
  {
   "cell_type": "code",
   "execution_count": 10,
   "metadata": {},
   "outputs": [],
   "source": [
    "from tropy.learn import fit_classifier, _inrad_eigenpair, fit_classifier_onevsall, predict_onevsall\n",
    "from tropy.metrics import accuracy_multiple, veronese_feature_names, print_features_per_class\n",
    "from tropy.ops import veronese\n",
    "from tropy.utils import simplex_lattice_points\n",
    "import pandas as pd\n",
    "import numpy as np\n",
    "from sklearn.model_selection import train_test_split\n",
    "\n",
    "np.set_printoptions(precision=3, suppress=True)"
   ]
  },
  {
   "cell_type": "code",
   "execution_count": 11,
   "metadata": {},
   "outputs": [
    {
     "name": "stderr",
     "output_type": "stream",
     "text": [
      "/var/folders/4k/mk0hky353gj5hxw05rvj1c_00000gn/T/ipykernel_25368/3403427926.py:1: DtypeWarning: Columns (25,108) have mixed types. Specify dtype option on import or set low_memory=False.\n",
      "  base_df = pd.read_csv('./data/players_22.csv')\n"
     ]
    }
   ],
   "source": [
    "base_df = pd.read_csv('./data/players_22.csv')\n",
    "df = base_df.loc[:, 'attacking_crossing':'goalkeeping_reflexes']\n",
    "classes = [\"ST\", \"CB\", \"CM\", \"GK\"]\n",
    "\n",
    "lattice_points = None\n",
    "def class_df(class_name, size=None):\n",
    "  global lattice_points\n",
    "  df_class = df[base_df[\"player_positions\"].str.contains(class_name)]\n",
    "  df_train, df_test = train_test_split(df_class, test_size=0.2, random_state=43)\n",
    "  Ctrain, Ctest = df_train.to_numpy(dtype=float).T, df_test.to_numpy(dtype=float).T\n",
    "\n",
    "  print(Ctrain.shape, Ctest.shape)\n",
    "  if size is not None:\n",
    "    d = Ctrain.shape[0]\n",
    "    lattice_points = list(simplex_lattice_points(d, size))\n",
    "    Ctrain, Ctest = veronese(lattice_points, Ctrain), veronese(lattice_points, Ctest)\n",
    "  return Ctrain, Ctest"
   ]
  },
  {
   "cell_type": "code",
   "execution_count": 12,
   "metadata": {},
   "outputs": [],
   "source": [
    "size = 2"
   ]
  },
  {
   "cell_type": "code",
   "execution_count": 13,
   "metadata": {},
   "outputs": [
    {
     "name": "stdout",
     "output_type": "stream",
     "text": [
      "(34, 2718) (34, 680)\n",
      "(34, 3216) (34, 805)\n",
      "(34, 3363) (34, 841)\n",
      "(34, 1705) (34, 427)\n"
     ]
    }
   ],
   "source": [
    "Clist_train, Clist_test = [], []\n",
    "for class_name in classes:\n",
    "  train, test = class_df(class_name, size)\n",
    "  Clist_train.append(train)\n",
    "  Clist_test.append(test)"
   ]
  },
  {
   "cell_type": "code",
   "execution_count": 14,
   "metadata": {},
   "outputs": [
    {
     "name": "stderr",
     "output_type": "stream",
     "text": [
      " 82%|████████▏ | 41/50 [00:11<00:02,  3.47it/s]"
     ]
    },
    {
     "name": "stdout",
     "output_type": "stream",
     "text": [
      "Apex: [-30.279 -30.279 -12.279 ... -35.279 -36.279 -37.279]\n",
      "Eigval: -70.99999999993952\n"
     ]
    },
    {
     "name": "stderr",
     "output_type": "stream",
     "text": [
      "\n"
     ]
    }
   ],
   "source": [
    "x, l = _inrad_eigenpair(Clist_train, N=50, old_method=True)\n",
    "print(\"Apex:\", x)\n",
    "print(\"Eigval:\", l)"
   ]
  },
  {
   "cell_type": "code",
   "execution_count": 15,
   "metadata": {},
   "outputs": [],
   "source": [
    "predictor, sector_indicator = fit_classifier(Clist_train, x)"
   ]
  },
  {
   "cell_type": "code",
   "execution_count": 16,
   "metadata": {},
   "outputs": [
    {
     "name": "stdout",
     "output_type": "stream",
     "text": [
      "Accuracy: 0.784\n"
     ]
    }
   ],
   "source": [
    "accuracy = accuracy_multiple(predictor, Clist_test)\n",
    "print(f\"Accuracy: {round(accuracy, 3)}\")"
   ]
  },
  {
   "cell_type": "code",
   "execution_count": 17,
   "metadata": {},
   "outputs": [
    {
     "name": "stderr",
     "output_type": "stream",
     "text": [
      "100%|██████████| 50/50 [00:14<00:00,  3.56it/s]\n",
      " 90%|█████████ | 45/50 [00:12<00:01,  3.54it/s]\n",
      "100%|██████████| 50/50 [00:13<00:00,  3.61it/s]\n",
      " 78%|███████▊  | 39/50 [00:10<00:03,  3.65it/s]\n"
     ]
    },
    {
     "name": "stdout",
     "output_type": "stream",
     "text": [
      "Accuracy (one vs. all): 0.761\n"
     ]
    }
   ],
   "source": [
    "indicators, apices = fit_classifier_onevsall(Clist_train)\n",
    "accuracy = accuracy_multiple(predict_onevsall(indicators, apices, Clist_train), Clist_test)\n",
    "print(f\"Accuracy (one vs. all): {round(accuracy, 3)}\")"
   ]
  },
  {
   "cell_type": "code",
   "execution_count": 18,
   "metadata": {},
   "outputs": [
    {
     "name": "stdout",
     "output_type": "stream",
     "text": [
      "Dominant features for each class:\n",
      "- ST: attacking_finishing + attacking_heading_accuracy, attacking_finishing + attacking_volleys, attacking_finishing + skill_dribbling, attacking_finishing + skill_fk_accuracy, attacking_finishing + movement_balance, attacking_finishing + power_long_shots, attacking_finishing + mentality_aggression, attacking_finishing + mentality_positioning, attacking_finishing + mentality_penalties, attacking_heading_accuracy + mentality_positioning, attacking_volleys + mentality_positioning, skill_dribbling + movement_acceleration, skill_dribbling + mentality_positioning, skill_dribbling + mentality_penalties, movement_sprint_speed + mentality_aggression, mentality_aggression + mentality_positioning, mentality_positioning + mentality_penalties, 2*attacking_finishing, 2*attacking_volleys, 2*mentality_aggression, 2*mentality_positioning\n",
      "- CB: attacking_crossing + attacking_heading_accuracy, attacking_crossing + mentality_interceptions, attacking_crossing + defending_marking_awareness, attacking_finishing + power_stamina, attacking_heading_accuracy + mentality_interceptions, attacking_heading_accuracy + defending_marking_awareness, attacking_heading_accuracy + defending_standing_tackle, attacking_volleys + defending_marking_awareness, skill_dribbling + defending_sliding_tackle, skill_fk_accuracy + defending_standing_tackle, skill_fk_accuracy + defending_sliding_tackle, power_shot_power + defending_standing_tackle, power_stamina + mentality_interceptions, power_stamina + defending_standing_tackle, power_stamina + defending_sliding_tackle, power_long_shots + defending_marking_awareness, power_long_shots + defending_sliding_tackle, mentality_aggression + mentality_interceptions, mentality_aggression + defending_marking_awareness, mentality_aggression + defending_standing_tackle, mentality_aggression + defending_sliding_tackle, mentality_interceptions + defending_marking_awareness, mentality_interceptions + defending_standing_tackle, mentality_interceptions + defending_sliding_tackle, mentality_penalties + defending_marking_awareness, defending_marking_awareness + defending_standing_tackle, defending_marking_awareness + defending_sliding_tackle, 2*attacking_heading_accuracy, 2*defending_marking_awareness, 2*defending_standing_tackle, 2*defending_sliding_tackle\n",
      "- CM: attacking_crossing + attacking_finishing, attacking_crossing + skill_dribbling, attacking_crossing + power_long_shots, attacking_crossing + mentality_aggression, attacking_crossing + mentality_positioning, attacking_finishing + defending_marking_awareness, attacking_finishing + defending_standing_tackle, attacking_heading_accuracy + skill_dribbling, attacking_heading_accuracy + power_long_shots, attacking_volleys + skill_dribbling, attacking_volleys + power_long_shots, attacking_volleys + mentality_interceptions, attacking_volleys + defending_standing_tackle, skill_dribbling + skill_ball_control, skill_dribbling + power_stamina, skill_dribbling + power_long_shots, skill_dribbling + mentality_aggression, skill_dribbling + mentality_interceptions, skill_dribbling + defending_marking_awareness, skill_dribbling + defending_standing_tackle, skill_curve + mentality_interceptions, skill_curve + mentality_positioning, skill_curve + defending_standing_tackle, skill_curve + defending_sliding_tackle, skill_fk_accuracy + mentality_interceptions, skill_ball_control + power_long_shots, skill_ball_control + mentality_interceptions, skill_ball_control + mentality_positioning, skill_ball_control + defending_marking_awareness, power_stamina + power_long_shots, power_stamina + mentality_aggression, power_stamina + mentality_positioning, power_long_shots + mentality_aggression, power_long_shots + mentality_interceptions, power_long_shots + mentality_positioning, power_long_shots + mentality_penalties, power_long_shots + defending_standing_tackle, mentality_interceptions + mentality_positioning, mentality_positioning + defending_marking_awareness, mentality_positioning + defending_standing_tackle, mentality_positioning + defending_sliding_tackle, 2*skill_dribbling, 2*power_stamina, 2*power_long_shots, 2*mentality_interceptions\n",
      "- GK: goalkeeping_diving + goalkeeping_handling, goalkeeping_diving + goalkeeping_kicking, goalkeeping_diving + goalkeeping_positioning, goalkeeping_diving + goalkeeping_reflexes, goalkeeping_handling + goalkeeping_kicking, goalkeeping_handling + goalkeeping_positioning, goalkeeping_handling + goalkeeping_reflexes, goalkeeping_kicking + goalkeeping_positioning, goalkeeping_positioning + goalkeeping_reflexes, 2*goalkeeping_diving, 2*goalkeeping_handling, 2*goalkeeping_kicking, 2*goalkeeping_positioning, 2*goalkeeping_reflexes\n"
     ]
    }
   ],
   "source": [
    "print_features_per_class(classes, veronese_feature_names(df.columns.to_list(), lattice_points), sector_indicator)"
   ]
  }
 ],
 "metadata": {
  "kernelspec": {
   "display_name": "Python 3",
   "language": "python",
   "name": "python3"
  },
  "language_info": {
   "codemirror_mode": {
    "name": "ipython",
    "version": 3
   },
   "file_extension": ".py",
   "mimetype": "text/x-python",
   "name": "python",
   "nbconvert_exporter": "python",
   "pygments_lexer": "ipython3",
   "version": "3.9.6"
  }
 },
 "nbformat": 4,
 "nbformat_minor": 2
}
